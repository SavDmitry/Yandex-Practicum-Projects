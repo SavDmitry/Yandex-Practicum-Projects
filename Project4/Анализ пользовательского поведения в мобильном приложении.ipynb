{
 "cells": [
  {
   "cell_type": "markdown",
   "metadata": {},
   "source": [
    "# Анализ поведения пользователей мобильного приложения"
   ]
  },
  {
   "cell_type": "markdown",
   "metadata": {},
   "source": [
    "**Описание задачи**\\\n",
    "В данной работе представлены результаты проведения А/А/В-теста пользователей мобильного приложения для продажи продуктов питания за период с 25 июля по 7 августа 2019 года. Тестирование проводилось для оценки изменений, связанных с изменением шрифта в приложении. Пользователи были разделены на три группы: 246 и 247 — контрольные группы со старым шрифтом в приложении, а 248 — экспериментальная группа с новым шрифтом в приложении."
   ]
  },
  {
   "cell_type": "markdown",
   "metadata": {},
   "source": [
    "**План работы**\n",
    "1. Предобработка данных\n",
    "- переименование столбцов\n",
    "- поиск явных/неявных дубликатов\n",
    "- добавление новых столбцов\n",
    "\n",
    "2. Изучение и проверка данных\n",
    "\n",
    "3. Изучение воронки событий\n",
    "\n",
    "4. Изучение результатов эксперимента\n",
    "- Расчёт статистической значимости различий в конверсии пользователей между 2 контрольными группами со старыми шрифтами\n",
    "- Расчёт статистической значимости различий в конверсии пользователей между каждой контрольной группой со старыми шрифтами и группой с новыми шрифтами\n",
    "- Расчёт статистической значимости различий в конверсии пользователей между объеденёнными контрольными группыми со старыми шрифтами и группой с новыми шрифтами\n",
    "\n",
    "5. Подготовка общего вывода"
   ]
  },
  {
   "cell_type": "markdown",
   "metadata": {},
   "source": [
    "**Описание данных**\n",
    "1. logs_exp.csv - логи действий пользователей, где:\n",
    "* EventName — название события\n",
    "* DeviceIDHash — уникальный идентификатор пользователя\n",
    "* EventTimestamp — время события\n",
    "* ExpId — номер эксперимента: 246 и 247 — контрольные группы, а 248 — экспериментальная"
   ]
  },
  {
   "cell_type": "markdown",
   "metadata": {},
   "source": [
    "# Общий вывод\n",
    "- В процессе предобработки данных были удалены дубликаты. Из датасета было удалено 0.2% данных. В датасете не было обнаружено пропусков. В таблице были добавлены столбцы с датой.\n",
    "- В датасете присутствуют 5 событий - MainScreenAppear, OffersScreenAppear, CartScreenAppear, PaymentScreenSuccessful, Tutorial. Наиболее популярным является MainScreenAppear, наименее популярным Tutorial\n",
    "- Было определено, что наибольшее количество пользователей теряется на шаге перехода с главной страницы на страницу с предложениями. От первого события до оплаты примерно половина пользователей\n",
    "\n",
    "**Оценка результатов А/А/В-теста**\n",
    "- При расчёте статистической значимости было определено, что нет оснований считать контрольные группы разными.\n",
    "- Нет статистически значимого различия по конверсии пользователей между объеденённой контрольной группой со старым шрифтом и группой с изменённым шрифтом.\n",
    "\n",
    "Результаты теста не показали улучшение метрик (конверсия в целевые действия). Изменение шрифтов никак не повлияло на поведение пользователей.\n",
    "\n",
    "**Рекомендации**\\\n",
    "Для увеличения конверсии в просмотр страницы с предложениями можно выполнить следующие действия:\n",
    "1. Сделать кнопку с переходом на экран с предложениями более заметной\n",
    "2. Добавить всплывающее окно, показывающее текущие акции и предложения"
   ]
  },
  {
   "cell_type": "markdown",
   "metadata": {},
   "source": [
    "## Изучение общей информации "
   ]
  },
  {
   "cell_type": "code",
   "execution_count": 1,
   "metadata": {},
   "outputs": [],
   "source": [
    "import pandas as pd\n",
    "import matplotlib.pyplot as plt\n",
    "from datetime import datetime, timedelta\n",
    "import numpy as np\n",
    "import scipy.stats as stats\n",
    "import plotly.express as px\n",
    "import math as mth\n",
    "import seaborn as sb"
   ]
  },
  {
   "cell_type": "code",
   "execution_count": 2,
   "metadata": {},
   "outputs": [],
   "source": [
    "try:\n",
    "    data = pd.read_csv('https://code.s3.yandex.net/datasets/logs_exp.csv', sep='\\t')\n",
    "\n",
    "except:\n",
    "    data = pd.read_csv('/my_folder_with_files/logs_exp.csv', sep='\\t')"
   ]
  },
  {
   "cell_type": "code",
   "execution_count": 3,
   "metadata": {},
   "outputs": [
    {
     "data": {
      "text/html": [
       "<div>\n",
       "<style scoped>\n",
       "    .dataframe tbody tr th:only-of-type {\n",
       "        vertical-align: middle;\n",
       "    }\n",
       "\n",
       "    .dataframe tbody tr th {\n",
       "        vertical-align: top;\n",
       "    }\n",
       "\n",
       "    .dataframe thead th {\n",
       "        text-align: right;\n",
       "    }\n",
       "</style>\n",
       "<table border=\"1\" class=\"dataframe\">\n",
       "  <thead>\n",
       "    <tr style=\"text-align: right;\">\n",
       "      <th></th>\n",
       "      <th>EventName</th>\n",
       "      <th>DeviceIDHash</th>\n",
       "      <th>EventTimestamp</th>\n",
       "      <th>ExpId</th>\n",
       "    </tr>\n",
       "  </thead>\n",
       "  <tbody>\n",
       "    <tr>\n",
       "      <th>0</th>\n",
       "      <td>MainScreenAppear</td>\n",
       "      <td>4575588528974610257</td>\n",
       "      <td>1564029816</td>\n",
       "      <td>246</td>\n",
       "    </tr>\n",
       "    <tr>\n",
       "      <th>1</th>\n",
       "      <td>MainScreenAppear</td>\n",
       "      <td>7416695313311560658</td>\n",
       "      <td>1564053102</td>\n",
       "      <td>246</td>\n",
       "    </tr>\n",
       "    <tr>\n",
       "      <th>2</th>\n",
       "      <td>PaymentScreenSuccessful</td>\n",
       "      <td>3518123091307005509</td>\n",
       "      <td>1564054127</td>\n",
       "      <td>248</td>\n",
       "    </tr>\n",
       "    <tr>\n",
       "      <th>3</th>\n",
       "      <td>CartScreenAppear</td>\n",
       "      <td>3518123091307005509</td>\n",
       "      <td>1564054127</td>\n",
       "      <td>248</td>\n",
       "    </tr>\n",
       "    <tr>\n",
       "      <th>4</th>\n",
       "      <td>PaymentScreenSuccessful</td>\n",
       "      <td>6217807653094995999</td>\n",
       "      <td>1564055322</td>\n",
       "      <td>248</td>\n",
       "    </tr>\n",
       "  </tbody>\n",
       "</table>\n",
       "</div>"
      ],
      "text/plain": [
       "                 EventName         DeviceIDHash  EventTimestamp  ExpId\n",
       "0         MainScreenAppear  4575588528974610257      1564029816    246\n",
       "1         MainScreenAppear  7416695313311560658      1564053102    246\n",
       "2  PaymentScreenSuccessful  3518123091307005509      1564054127    248\n",
       "3         CartScreenAppear  3518123091307005509      1564054127    248\n",
       "4  PaymentScreenSuccessful  6217807653094995999      1564055322    248"
      ]
     },
     "execution_count": 3,
     "metadata": {},
     "output_type": "execute_result"
    }
   ],
   "source": [
    "data.head()"
   ]
  },
  {
   "cell_type": "code",
   "execution_count": 4,
   "metadata": {},
   "outputs": [
    {
     "name": "stdout",
     "output_type": "stream",
     "text": [
      "<class 'pandas.core.frame.DataFrame'>\n",
      "RangeIndex: 244126 entries, 0 to 244125\n",
      "Data columns (total 4 columns):\n",
      " #   Column          Non-Null Count   Dtype \n",
      "---  ------          --------------   ----- \n",
      " 0   EventName       244126 non-null  object\n",
      " 1   DeviceIDHash    244126 non-null  int64 \n",
      " 2   EventTimestamp  244126 non-null  int64 \n",
      " 3   ExpId           244126 non-null  int64 \n",
      "dtypes: int64(3), object(1)\n",
      "memory usage: 7.5+ MB\n"
     ]
    }
   ],
   "source": [
    "data.info()"
   ]
  },
  {
   "cell_type": "markdown",
   "metadata": {},
   "source": [
    "Вывод: пропущенные значения в датасетах не обнаружены."
   ]
  },
  {
   "cell_type": "markdown",
   "metadata": {},
   "source": [
    "## Предобработка данных"
   ]
  },
  {
   "cell_type": "markdown",
   "metadata": {},
   "source": [
    "### Переименование столбцов"
   ]
  },
  {
   "cell_type": "code",
   "execution_count": 5,
   "metadata": {},
   "outputs": [],
   "source": [
    "data.columns = ['event_name', 'user_id', 'event_timestamp', 'group_id']"
   ]
  },
  {
   "cell_type": "code",
   "execution_count": 6,
   "metadata": {},
   "outputs": [
    {
     "data": {
      "text/html": [
       "<div>\n",
       "<style scoped>\n",
       "    .dataframe tbody tr th:only-of-type {\n",
       "        vertical-align: middle;\n",
       "    }\n",
       "\n",
       "    .dataframe tbody tr th {\n",
       "        vertical-align: top;\n",
       "    }\n",
       "\n",
       "    .dataframe thead th {\n",
       "        text-align: right;\n",
       "    }\n",
       "</style>\n",
       "<table border=\"1\" class=\"dataframe\">\n",
       "  <thead>\n",
       "    <tr style=\"text-align: right;\">\n",
       "      <th></th>\n",
       "      <th>event_name</th>\n",
       "      <th>user_id</th>\n",
       "      <th>event_timestamp</th>\n",
       "      <th>group_id</th>\n",
       "    </tr>\n",
       "  </thead>\n",
       "  <tbody>\n",
       "    <tr>\n",
       "      <th>216245</th>\n",
       "      <td>MainScreenAppear</td>\n",
       "      <td>1067090061368734284</td>\n",
       "      <td>1565156600</td>\n",
       "      <td>246</td>\n",
       "    </tr>\n",
       "  </tbody>\n",
       "</table>\n",
       "</div>"
      ],
      "text/plain": [
       "              event_name              user_id  event_timestamp  group_id\n",
       "216245  MainScreenAppear  1067090061368734284       1565156600       246"
      ]
     },
     "execution_count": 6,
     "metadata": {},
     "output_type": "execute_result"
    }
   ],
   "source": [
    "data.sample()"
   ]
  },
  {
   "cell_type": "markdown",
   "metadata": {},
   "source": [
    "### Устранение дубликатов"
   ]
  },
  {
   "cell_type": "code",
   "execution_count": 7,
   "metadata": {},
   "outputs": [
    {
     "data": {
      "text/plain": [
       "array(['MainScreenAppear', 'PaymentScreenSuccessful', 'CartScreenAppear',\n",
       "       'OffersScreenAppear', 'Tutorial'], dtype=object)"
      ]
     },
     "execution_count": 7,
     "metadata": {},
     "output_type": "execute_result"
    }
   ],
   "source": [
    "#поиск уникальных значений в столбцах\n",
    "data['event_name'].unique()"
   ]
  },
  {
   "cell_type": "markdown",
   "metadata": {},
   "source": [
    "Вывод: неявные дубликаты не обнаружены"
   ]
  },
  {
   "cell_type": "code",
   "execution_count": 8,
   "metadata": {},
   "outputs": [
    {
     "data": {
      "text/plain": [
       "413"
      ]
     },
     "execution_count": 8,
     "metadata": {},
     "output_type": "execute_result"
    }
   ],
   "source": [
    "#поиск явных дубликатов\n",
    "data.duplicated().sum()"
   ]
  },
  {
   "cell_type": "markdown",
   "metadata": {},
   "source": [
    "Вывод: В датасете обнаружено 413 дубликатов. Для дальнейшей работы их необходимо удалить."
   ]
  },
  {
   "cell_type": "code",
   "execution_count": 9,
   "metadata": {},
   "outputs": [],
   "source": [
    "#удаление явных дубликатов\n",
    "data = data.drop_duplicates().reset_index(drop=True)"
   ]
  },
  {
   "cell_type": "code",
   "execution_count": 10,
   "metadata": {},
   "outputs": [
    {
     "name": "stdout",
     "output_type": "stream",
     "text": [
      "Из датасета было удалено 0.2% данных\n"
     ]
    }
   ],
   "source": [
    "#расчёт количества удалённых данных\n",
    "old_data = pd.read_csv('https://code.s3.yandex.net/datasets/logs_exp.csv', sep='\\t')\n",
    "print(f\"Из датасета было удалено {round((1 - round((data.shape[0] / old_data.shape[0]), 3)) * 100, 2)}% данных\")"
   ]
  },
  {
   "cell_type": "markdown",
   "metadata": {},
   "source": [
    "### Добавление новых столбцов"
   ]
  },
  {
   "cell_type": "code",
   "execution_count": 11,
   "metadata": {
    "scrolled": false
   },
   "outputs": [
    {
     "ename": "TypeError",
     "evalue": "Cannot cast DatetimeArray to dtype datetime64[D]",
     "output_type": "error",
     "traceback": [
      "\u001b[0;31m---------------------------------------------------------------------------\u001b[0m",
      "\u001b[0;31mTypeError\u001b[0m                                 Traceback (most recent call last)",
      "Cell \u001b[0;32mIn[11], line 2\u001b[0m\n\u001b[1;32m      1\u001b[0m data[\u001b[38;5;124m'\u001b[39m\u001b[38;5;124mdate_time\u001b[39m\u001b[38;5;124m'\u001b[39m] \u001b[38;5;241m=\u001b[39m pd\u001b[38;5;241m.\u001b[39mto_datetime(data[\u001b[38;5;124m'\u001b[39m\u001b[38;5;124mevent_timestamp\u001b[39m\u001b[38;5;124m'\u001b[39m], unit \u001b[38;5;241m=\u001b[39m \u001b[38;5;124m'\u001b[39m\u001b[38;5;124ms\u001b[39m\u001b[38;5;124m'\u001b[39m)\n\u001b[0;32m----> 2\u001b[0m data[\u001b[38;5;124m'\u001b[39m\u001b[38;5;124mdate\u001b[39m\u001b[38;5;124m'\u001b[39m] \u001b[38;5;241m=\u001b[39m \u001b[43mdata\u001b[49m\u001b[43m[\u001b[49m\u001b[38;5;124;43m'\u001b[39;49m\u001b[38;5;124;43mdate_time\u001b[39;49m\u001b[38;5;124;43m'\u001b[39;49m\u001b[43m]\u001b[49m\u001b[38;5;241;43m.\u001b[39;49m\u001b[43mastype\u001b[49m\u001b[43m(\u001b[49m\u001b[38;5;124;43m'\u001b[39;49m\u001b[38;5;124;43mdatetime64[D]\u001b[39;49m\u001b[38;5;124;43m'\u001b[39;49m\u001b[43m)\u001b[49m \n\u001b[1;32m      3\u001b[0m data\u001b[38;5;241m.\u001b[39msample()\n",
      "File \u001b[0;32m~/anaconda3/envs/da_practicum_env/lib/python3.9/site-packages/pandas/core/generic.py:6324\u001b[0m, in \u001b[0;36mNDFrame.astype\u001b[0;34m(self, dtype, copy, errors)\u001b[0m\n\u001b[1;32m   6317\u001b[0m     results \u001b[38;5;241m=\u001b[39m [\n\u001b[1;32m   6318\u001b[0m         \u001b[38;5;28mself\u001b[39m\u001b[38;5;241m.\u001b[39miloc[:, i]\u001b[38;5;241m.\u001b[39mastype(dtype, copy\u001b[38;5;241m=\u001b[39mcopy)\n\u001b[1;32m   6319\u001b[0m         \u001b[38;5;28;01mfor\u001b[39;00m i \u001b[38;5;129;01min\u001b[39;00m \u001b[38;5;28mrange\u001b[39m(\u001b[38;5;28mlen\u001b[39m(\u001b[38;5;28mself\u001b[39m\u001b[38;5;241m.\u001b[39mcolumns))\n\u001b[1;32m   6320\u001b[0m     ]\n\u001b[1;32m   6322\u001b[0m \u001b[38;5;28;01melse\u001b[39;00m:\n\u001b[1;32m   6323\u001b[0m     \u001b[38;5;66;03m# else, only a single dtype is given\u001b[39;00m\n\u001b[0;32m-> 6324\u001b[0m     new_data \u001b[38;5;241m=\u001b[39m \u001b[38;5;28;43mself\u001b[39;49m\u001b[38;5;241;43m.\u001b[39;49m\u001b[43m_mgr\u001b[49m\u001b[38;5;241;43m.\u001b[39;49m\u001b[43mastype\u001b[49m\u001b[43m(\u001b[49m\u001b[43mdtype\u001b[49m\u001b[38;5;241;43m=\u001b[39;49m\u001b[43mdtype\u001b[49m\u001b[43m,\u001b[49m\u001b[43m \u001b[49m\u001b[43mcopy\u001b[49m\u001b[38;5;241;43m=\u001b[39;49m\u001b[43mcopy\u001b[49m\u001b[43m,\u001b[49m\u001b[43m \u001b[49m\u001b[43merrors\u001b[49m\u001b[38;5;241;43m=\u001b[39;49m\u001b[43merrors\u001b[49m\u001b[43m)\u001b[49m\n\u001b[1;32m   6325\u001b[0m     \u001b[38;5;28;01mreturn\u001b[39;00m \u001b[38;5;28mself\u001b[39m\u001b[38;5;241m.\u001b[39m_constructor(new_data)\u001b[38;5;241m.\u001b[39m__finalize__(\u001b[38;5;28mself\u001b[39m, method\u001b[38;5;241m=\u001b[39m\u001b[38;5;124m\"\u001b[39m\u001b[38;5;124mastype\u001b[39m\u001b[38;5;124m\"\u001b[39m)\n\u001b[1;32m   6327\u001b[0m \u001b[38;5;66;03m# GH 33113: handle empty frame or series\u001b[39;00m\n",
      "File \u001b[0;32m~/anaconda3/envs/da_practicum_env/lib/python3.9/site-packages/pandas/core/internals/managers.py:451\u001b[0m, in \u001b[0;36mBaseBlockManager.astype\u001b[0;34m(self, dtype, copy, errors)\u001b[0m\n\u001b[1;32m    448\u001b[0m \u001b[38;5;28;01melif\u001b[39;00m using_copy_on_write():\n\u001b[1;32m    449\u001b[0m     copy \u001b[38;5;241m=\u001b[39m \u001b[38;5;28;01mFalse\u001b[39;00m\n\u001b[0;32m--> 451\u001b[0m \u001b[38;5;28;01mreturn\u001b[39;00m \u001b[38;5;28;43mself\u001b[39;49m\u001b[38;5;241;43m.\u001b[39;49m\u001b[43mapply\u001b[49m\u001b[43m(\u001b[49m\n\u001b[1;32m    452\u001b[0m \u001b[43m    \u001b[49m\u001b[38;5;124;43m\"\u001b[39;49m\u001b[38;5;124;43mastype\u001b[39;49m\u001b[38;5;124;43m\"\u001b[39;49m\u001b[43m,\u001b[49m\n\u001b[1;32m    453\u001b[0m \u001b[43m    \u001b[49m\u001b[43mdtype\u001b[49m\u001b[38;5;241;43m=\u001b[39;49m\u001b[43mdtype\u001b[49m\u001b[43m,\u001b[49m\n\u001b[1;32m    454\u001b[0m \u001b[43m    \u001b[49m\u001b[43mcopy\u001b[49m\u001b[38;5;241;43m=\u001b[39;49m\u001b[43mcopy\u001b[49m\u001b[43m,\u001b[49m\n\u001b[1;32m    455\u001b[0m \u001b[43m    \u001b[49m\u001b[43merrors\u001b[49m\u001b[38;5;241;43m=\u001b[39;49m\u001b[43merrors\u001b[49m\u001b[43m,\u001b[49m\n\u001b[1;32m    456\u001b[0m \u001b[43m    \u001b[49m\u001b[43musing_cow\u001b[49m\u001b[38;5;241;43m=\u001b[39;49m\u001b[43musing_copy_on_write\u001b[49m\u001b[43m(\u001b[49m\u001b[43m)\u001b[49m\u001b[43m,\u001b[49m\n\u001b[1;32m    457\u001b[0m \u001b[43m\u001b[49m\u001b[43m)\u001b[49m\n",
      "File \u001b[0;32m~/anaconda3/envs/da_practicum_env/lib/python3.9/site-packages/pandas/core/internals/managers.py:352\u001b[0m, in \u001b[0;36mBaseBlockManager.apply\u001b[0;34m(self, f, align_keys, **kwargs)\u001b[0m\n\u001b[1;32m    350\u001b[0m         applied \u001b[38;5;241m=\u001b[39m b\u001b[38;5;241m.\u001b[39mapply(f, \u001b[38;5;241m*\u001b[39m\u001b[38;5;241m*\u001b[39mkwargs)\n\u001b[1;32m    351\u001b[0m     \u001b[38;5;28;01melse\u001b[39;00m:\n\u001b[0;32m--> 352\u001b[0m         applied \u001b[38;5;241m=\u001b[39m \u001b[38;5;28;43mgetattr\u001b[39;49m\u001b[43m(\u001b[49m\u001b[43mb\u001b[49m\u001b[43m,\u001b[49m\u001b[43m \u001b[49m\u001b[43mf\u001b[49m\u001b[43m)\u001b[49m\u001b[43m(\u001b[49m\u001b[38;5;241;43m*\u001b[39;49m\u001b[38;5;241;43m*\u001b[39;49m\u001b[43mkwargs\u001b[49m\u001b[43m)\u001b[49m\n\u001b[1;32m    353\u001b[0m     result_blocks \u001b[38;5;241m=\u001b[39m extend_blocks(applied, result_blocks)\n\u001b[1;32m    355\u001b[0m out \u001b[38;5;241m=\u001b[39m \u001b[38;5;28mtype\u001b[39m(\u001b[38;5;28mself\u001b[39m)\u001b[38;5;241m.\u001b[39mfrom_blocks(result_blocks, \u001b[38;5;28mself\u001b[39m\u001b[38;5;241m.\u001b[39maxes)\n",
      "File \u001b[0;32m~/anaconda3/envs/da_practicum_env/lib/python3.9/site-packages/pandas/core/internals/blocks.py:511\u001b[0m, in \u001b[0;36mBlock.astype\u001b[0;34m(self, dtype, copy, errors, using_cow)\u001b[0m\n\u001b[1;32m    491\u001b[0m \u001b[38;5;250m\u001b[39m\u001b[38;5;124;03m\"\"\"\u001b[39;00m\n\u001b[1;32m    492\u001b[0m \u001b[38;5;124;03mCoerce to the new dtype.\u001b[39;00m\n\u001b[1;32m    493\u001b[0m \n\u001b[0;32m   (...)\u001b[0m\n\u001b[1;32m    507\u001b[0m \u001b[38;5;124;03mBlock\u001b[39;00m\n\u001b[1;32m    508\u001b[0m \u001b[38;5;124;03m\"\"\"\u001b[39;00m\n\u001b[1;32m    509\u001b[0m values \u001b[38;5;241m=\u001b[39m \u001b[38;5;28mself\u001b[39m\u001b[38;5;241m.\u001b[39mvalues\n\u001b[0;32m--> 511\u001b[0m new_values \u001b[38;5;241m=\u001b[39m \u001b[43mastype_array_safe\u001b[49m\u001b[43m(\u001b[49m\u001b[43mvalues\u001b[49m\u001b[43m,\u001b[49m\u001b[43m \u001b[49m\u001b[43mdtype\u001b[49m\u001b[43m,\u001b[49m\u001b[43m \u001b[49m\u001b[43mcopy\u001b[49m\u001b[38;5;241;43m=\u001b[39;49m\u001b[43mcopy\u001b[49m\u001b[43m,\u001b[49m\u001b[43m \u001b[49m\u001b[43merrors\u001b[49m\u001b[38;5;241;43m=\u001b[39;49m\u001b[43merrors\u001b[49m\u001b[43m)\u001b[49m\n\u001b[1;32m    513\u001b[0m new_values \u001b[38;5;241m=\u001b[39m maybe_coerce_values(new_values)\n\u001b[1;32m    515\u001b[0m refs \u001b[38;5;241m=\u001b[39m \u001b[38;5;28;01mNone\u001b[39;00m\n",
      "File \u001b[0;32m~/anaconda3/envs/da_practicum_env/lib/python3.9/site-packages/pandas/core/dtypes/astype.py:242\u001b[0m, in \u001b[0;36mastype_array_safe\u001b[0;34m(values, dtype, copy, errors)\u001b[0m\n\u001b[1;32m    239\u001b[0m     dtype \u001b[38;5;241m=\u001b[39m dtype\u001b[38;5;241m.\u001b[39mnumpy_dtype\n\u001b[1;32m    241\u001b[0m \u001b[38;5;28;01mtry\u001b[39;00m:\n\u001b[0;32m--> 242\u001b[0m     new_values \u001b[38;5;241m=\u001b[39m \u001b[43mastype_array\u001b[49m\u001b[43m(\u001b[49m\u001b[43mvalues\u001b[49m\u001b[43m,\u001b[49m\u001b[43m \u001b[49m\u001b[43mdtype\u001b[49m\u001b[43m,\u001b[49m\u001b[43m \u001b[49m\u001b[43mcopy\u001b[49m\u001b[38;5;241;43m=\u001b[39;49m\u001b[43mcopy\u001b[49m\u001b[43m)\u001b[49m\n\u001b[1;32m    243\u001b[0m \u001b[38;5;28;01mexcept\u001b[39;00m (\u001b[38;5;167;01mValueError\u001b[39;00m, \u001b[38;5;167;01mTypeError\u001b[39;00m):\n\u001b[1;32m    244\u001b[0m     \u001b[38;5;66;03m# e.g. _astype_nansafe can fail on object-dtype of strings\u001b[39;00m\n\u001b[1;32m    245\u001b[0m     \u001b[38;5;66;03m#  trying to convert to float\u001b[39;00m\n\u001b[1;32m    246\u001b[0m     \u001b[38;5;28;01mif\u001b[39;00m errors \u001b[38;5;241m==\u001b[39m \u001b[38;5;124m\"\u001b[39m\u001b[38;5;124mignore\u001b[39m\u001b[38;5;124m\"\u001b[39m:\n",
      "File \u001b[0;32m~/anaconda3/envs/da_practicum_env/lib/python3.9/site-packages/pandas/core/dtypes/astype.py:184\u001b[0m, in \u001b[0;36mastype_array\u001b[0;34m(values, dtype, copy)\u001b[0m\n\u001b[1;32m    180\u001b[0m     \u001b[38;5;28;01mreturn\u001b[39;00m values\n\u001b[1;32m    182\u001b[0m \u001b[38;5;28;01mif\u001b[39;00m \u001b[38;5;129;01mnot\u001b[39;00m \u001b[38;5;28misinstance\u001b[39m(values, np\u001b[38;5;241m.\u001b[39mndarray):\n\u001b[1;32m    183\u001b[0m     \u001b[38;5;66;03m# i.e. ExtensionArray\u001b[39;00m\n\u001b[0;32m--> 184\u001b[0m     values \u001b[38;5;241m=\u001b[39m \u001b[43mvalues\u001b[49m\u001b[38;5;241;43m.\u001b[39;49m\u001b[43mastype\u001b[49m\u001b[43m(\u001b[49m\u001b[43mdtype\u001b[49m\u001b[43m,\u001b[49m\u001b[43m \u001b[49m\u001b[43mcopy\u001b[49m\u001b[38;5;241;43m=\u001b[39;49m\u001b[43mcopy\u001b[49m\u001b[43m)\u001b[49m\n\u001b[1;32m    186\u001b[0m \u001b[38;5;28;01melse\u001b[39;00m:\n\u001b[1;32m    187\u001b[0m     values \u001b[38;5;241m=\u001b[39m _astype_nansafe(values, dtype, copy\u001b[38;5;241m=\u001b[39mcopy)\n",
      "File \u001b[0;32m~/anaconda3/envs/da_practicum_env/lib/python3.9/site-packages/pandas/core/arrays/datetimes.py:701\u001b[0m, in \u001b[0;36mDatetimeArray.astype\u001b[0;34m(self, dtype, copy)\u001b[0m\n\u001b[1;32m    699\u001b[0m \u001b[38;5;28;01melif\u001b[39;00m is_period_dtype(dtype):\n\u001b[1;32m    700\u001b[0m     \u001b[38;5;28;01mreturn\u001b[39;00m \u001b[38;5;28mself\u001b[39m\u001b[38;5;241m.\u001b[39mto_period(freq\u001b[38;5;241m=\u001b[39mdtype\u001b[38;5;241m.\u001b[39mfreq)\n\u001b[0;32m--> 701\u001b[0m \u001b[38;5;28;01mreturn\u001b[39;00m \u001b[43mdtl\u001b[49m\u001b[38;5;241;43m.\u001b[39;49m\u001b[43mDatetimeLikeArrayMixin\u001b[49m\u001b[38;5;241;43m.\u001b[39;49m\u001b[43mastype\u001b[49m\u001b[43m(\u001b[49m\u001b[38;5;28;43mself\u001b[39;49m\u001b[43m,\u001b[49m\u001b[43m \u001b[49m\u001b[43mdtype\u001b[49m\u001b[43m,\u001b[49m\u001b[43m \u001b[49m\u001b[43mcopy\u001b[49m\u001b[43m)\u001b[49m\n",
      "File \u001b[0;32m~/anaconda3/envs/da_practicum_env/lib/python3.9/site-packages/pandas/core/arrays/datetimelike.py:487\u001b[0m, in \u001b[0;36mDatetimeLikeArrayMixin.astype\u001b[0;34m(self, dtype, copy)\u001b[0m\n\u001b[1;32m    480\u001b[0m \u001b[38;5;28;01melif\u001b[39;00m (\n\u001b[1;32m    481\u001b[0m     is_datetime_or_timedelta_dtype(dtype)\n\u001b[1;32m    482\u001b[0m     \u001b[38;5;129;01mand\u001b[39;00m \u001b[38;5;129;01mnot\u001b[39;00m is_dtype_equal(\u001b[38;5;28mself\u001b[39m\u001b[38;5;241m.\u001b[39mdtype, dtype)\n\u001b[1;32m    483\u001b[0m ) \u001b[38;5;129;01mor\u001b[39;00m is_float_dtype(dtype):\n\u001b[1;32m    484\u001b[0m     \u001b[38;5;66;03m# disallow conversion between datetime/timedelta,\u001b[39;00m\n\u001b[1;32m    485\u001b[0m     \u001b[38;5;66;03m# and conversions for any datetimelike to float\u001b[39;00m\n\u001b[1;32m    486\u001b[0m     msg \u001b[38;5;241m=\u001b[39m \u001b[38;5;124mf\u001b[39m\u001b[38;5;124m\"\u001b[39m\u001b[38;5;124mCannot cast \u001b[39m\u001b[38;5;132;01m{\u001b[39;00m\u001b[38;5;28mtype\u001b[39m(\u001b[38;5;28mself\u001b[39m)\u001b[38;5;241m.\u001b[39m\u001b[38;5;18m__name__\u001b[39m\u001b[38;5;132;01m}\u001b[39;00m\u001b[38;5;124m to dtype \u001b[39m\u001b[38;5;132;01m{\u001b[39;00mdtype\u001b[38;5;132;01m}\u001b[39;00m\u001b[38;5;124m\"\u001b[39m\n\u001b[0;32m--> 487\u001b[0m     \u001b[38;5;28;01mraise\u001b[39;00m \u001b[38;5;167;01mTypeError\u001b[39;00m(msg)\n\u001b[1;32m    488\u001b[0m \u001b[38;5;28;01melse\u001b[39;00m:\n\u001b[1;32m    489\u001b[0m     \u001b[38;5;28;01mreturn\u001b[39;00m np\u001b[38;5;241m.\u001b[39masarray(\u001b[38;5;28mself\u001b[39m, dtype\u001b[38;5;241m=\u001b[39mdtype)\n",
      "\u001b[0;31mTypeError\u001b[0m: Cannot cast DatetimeArray to dtype datetime64[D]"
     ]
    }
   ],
   "source": [
    "data['date_time'] = pd.to_datetime(data['event_timestamp'], unit = 's')\n",
    "data['date'] = data['date_time'].astype('datetime64[D]') \n",
    "data.sample()"
   ]
  },
  {
   "cell_type": "markdown",
   "metadata": {},
   "source": [
    "## Изучение и проверка данных"
   ]
  },
  {
   "cell_type": "code",
   "execution_count": null,
   "metadata": {},
   "outputs": [],
   "source": [
    "#расчёт количества событий в логе\n",
    "print('Количество событий в логе -',(data['event_name'].count()))\n",
    "data.groupby('event_name').agg({'user_id':'count'}).reset_index()"
   ]
  },
  {
   "cell_type": "markdown",
   "metadata": {},
   "source": [
    "Перед расчётом среднего количества событий на пользователя, необходимо проверить наличие аномальных значений."
   ]
  },
  {
   "cell_type": "code",
   "execution_count": null,
   "metadata": {},
   "outputs": [],
   "source": [
    "#создание сводной таблицы с расчётом количества событий для каждого пользователя\n",
    "data_grouped = data.groupby('user_id').agg({'event_name':'count'}).reset_index()\n",
    "\n",
    "data_grouped['event_name'].describe()"
   ]
  },
  {
   "cell_type": "markdown",
   "metadata": {},
   "source": [
    "Вывод: стандартное отклонение 65, что говорит о наличии крупных аномалий количества событий у некоторых пользователей. Соответственно, для расчётом количества событий на пользователя необходимо использовать медианное значение."
   ]
  },
  {
   "cell_type": "code",
   "execution_count": null,
   "metadata": {},
   "outputs": [],
   "source": [
    "#расчёт пользователей в данных\n",
    "print('Количество уникальных пользователей в датасете -',(data['user_id'].nunique()))\n",
    "\n",
    "#расчёт медианного количества событий на пользователя\n",
    "print(f\"В среднем на пользователя приходится {data_grouped['event_name'].median()} событий\")\n",
    "\n",
    "#определение минимальной и максимальной даты в датасете\n",
    "print('Минимальная дата в логе -',(data['date_time'].min()))\n",
    "print('Максимальная дата в логе -',(data['date_time'].max()))"
   ]
  },
  {
   "cell_type": "code",
   "execution_count": null,
   "metadata": {},
   "outputs": [],
   "source": [
    "#построение гистограммы по столбцу date_time\n",
    "data['date_time'].hist(bins=80, figsize=(15,5))\n",
    "plt.title('Гистограмма событий в зависимости от даты и времени')\n",
    "plt.xlabel('Дата', fontsize=13)\n",
    "plt.ylabel('Количество событий', fontsize=13);"
   ]
  },
  {
   "cell_type": "markdown",
   "metadata": {},
   "source": [
    "Вывод: Исходя из анализа гистограммы, можно сделать вывод о том, что полные данные присутствуют за период с 1 по 7 августа (включительно)."
   ]
  },
  {
   "cell_type": "code",
   "execution_count": null,
   "metadata": {},
   "outputs": [],
   "source": [
    "#удаление событий, случившихся до 1 августа 2019\n",
    "data_new = data.query('date_time >= \"2019-08-01\"')\n",
    "\n",
    "#расчёт количества удалённых пользователей и событий\n",
    "print('Количество удалённых событий равно',(data.shape[0]-data_new.shape[0]),'Это составляет', round((data.shape[0]-data_new.shape[0])*100/data.shape[0],2), '% от изначального количества событий') \n",
    "print('Количество удалённых уникальных пользователей равно',(data['user_id'].nunique()-data_new['user_id'].nunique()),'Это составляет', round((data['user_id'].nunique()-data_new['user_id'].nunique())*100/data['user_id'].nunique(),2), '% от изначального количества пользователей') \n",
    "\n",
    "\n",
    "#проверка наличия пользователей из 3х групп в новом датасете\n",
    "data_new['group_id'].unique()"
   ]
  },
  {
   "cell_type": "markdown",
   "metadata": {},
   "source": [
    "Вывод: В новом датасете присутствуют пользователи из всех трёх экспериментальных групп."
   ]
  },
  {
   "cell_type": "markdown",
   "metadata": {},
   "source": [
    "## Изучение воронки событий "
   ]
  },
  {
   "cell_type": "code",
   "execution_count": null,
   "metadata": {},
   "outputs": [],
   "source": [
    "#группировка данных по событию для расчёта частоты совершения этого события\n",
    "events_frequency = data_new.groupby('event_name').agg({'user_id':'count'}).reset_index()\\\n",
    "                           .sort_values(by='user_id', ascending=False)\n",
    "\n",
    "events_frequency.columns = ['event_name', 'quantity']\n",
    "events_frequency"
   ]
  },
  {
   "cell_type": "markdown",
   "metadata": {},
   "source": [
    "Вывод: В логах присутствуют такие события, как MainScreenAppear, OffersScreenAppear, CartScreenAppear, PaymentScreenSuccessful, Tutorial. \\\n",
    "Чаще всего присутствует событие MainScreenAppear, которое означает переход на главную страницу. \\\n",
    "Реже всего встречается событие Tutorial."
   ]
  },
  {
   "cell_type": "code",
   "execution_count": null,
   "metadata": {},
   "outputs": [],
   "source": [
    "#создание таблицы, отображающей количество пользователей для каждого события и долю пользователей, которые хоть раз совершали событие\n",
    "events_table = data_new.groupby('event_name').agg({'user_id':'nunique'}).reset_index()\\\n",
    "                         .sort_values(by='user_id', ascending=False)\n",
    "events_table.columns = ['event_name', 'users_quantity']\n",
    "events_table['ratio'] = round((events_table['users_quantity']/data_new['user_id'].nunique()), 2)\n",
    "events_table"
   ]
  },
  {
   "cell_type": "markdown",
   "metadata": {},
   "source": [
    "Вывод:\\\n",
    "Скорее всего, события происходят в следующей последовательности:  \n",
    "MainScreenAppear->OffersScreenAppear->CartScreenAppear->PaymentScreenSuccessful \\\n",
    "главная страница->страница с преложениями->корзина->страница с подтверждением оплаты \\\n",
    "Минимальная доля пользователей совершает событие Tutotial (всего 11%). Данное событие не будет использовано для дальнейшего анализа.\n"
   ]
  },
  {
   "cell_type": "code",
   "execution_count": null,
   "metadata": {
    "scrolled": true
   },
   "outputs": [],
   "source": [
    "#расчёт доли пользователей, переходящих на следующий шаг воронки\n",
    "logs_funnel = events_table.query('event_name != \"Tutorial\"').reset_index(drop=True)\n",
    "logs_funnel['conversion, %'] = round((logs_funnel['users_quantity']*100 / logs_funnel['users_quantity'].shift(1)), 1)\n",
    "logs_funnel = logs_funnel.fillna(100) \n",
    "logs_funnel"
   ]
  },
  {
   "cell_type": "code",
   "execution_count": null,
   "metadata": {},
   "outputs": [],
   "source": [
    "#визуализация воронки\n",
    "funnel_data = dict(values=logs_funnel['conversion, %'],\n",
    "            labels=logs_funnel['event_name'])\n",
    "fig = px.funnel(funnel_data, y='labels', x='values', title='Воронка событий')\n",
    "fig.show()\n"
   ]
  },
  {
   "cell_type": "code",
   "execution_count": null,
   "metadata": {
    "scrolled": true
   },
   "outputs": [],
   "source": [
    "print('Наибольшее количество пользователей теряется на шаге перехода с главной страницы на страницу с предложениями.')\n",
    "print('От первого события до оплаты доходит',(round(logs_funnel['users_quantity'][3]*100/logs_funnel['users_quantity'][0])), '% пользователей')"
   ]
  },
  {
   "cell_type": "markdown",
   "metadata": {},
   "source": [
    "## Изучение результатов эксперимента"
   ]
  },
  {
   "cell_type": "code",
   "execution_count": null,
   "metadata": {},
   "outputs": [],
   "source": [
    "#расчёт количества пользователей в каждой экспериментальной группе\n",
    "users_quantity_by_group = data_new.query('event_name !=\"Tutorial\"').groupby('group_id').agg({'user_id':'nunique'})\\\n",
    "                                  .reset_index()\n",
    "users_quantity_by_group"
   ]
  },
  {
   "cell_type": "markdown",
   "metadata": {},
   "source": [
    "Вывод: в группе 246 находится 2483 пользователя, в группе 247 - 2512, в группе 248 - 2535 пользователя."
   ]
  },
  {
   "cell_type": "code",
   "execution_count": null,
   "metadata": {},
   "outputs": [],
   "source": [
    "#проверка наличия уникальных пользователей в 2х или 3х группах одновременно\n",
    "data_new.query('event_name !=\"Tutorial\"').groupby('user_id').agg({'group_id':'nunique'}).reset_index().query('group_id > 1').count()\n"
   ]
  },
  {
   "cell_type": "markdown",
   "metadata": {},
   "source": [
    "Вывод: пользователей, которые находятся в нескольких группах одновременно, не обнаружено."
   ]
  },
  {
   "cell_type": "markdown",
   "metadata": {},
   "source": [
    "### Анализ А/А/B-теста"
   ]
  },
  {
   "cell_type": "code",
   "execution_count": null,
   "metadata": {},
   "outputs": [],
   "source": [
    "#создание сводной таблицы с числом уникальных пользователей по событиям и контрольным группам\n",
    "combined_data = data_new.query('event_name !=\"Tutorial\"').groupby(['group_id','event_name'])\\\n",
    "                                                         .agg({'user_id':'nunique'}).reset_index()\n",
    "\n",
    "combined_data"
   ]
  },
  {
   "cell_type": "code",
   "execution_count": null,
   "metadata": {},
   "outputs": [],
   "source": [
    "#функция для проведения z-теста\n",
    "def get_z_test(event, group1, group2, alpha):\n",
    "    successes = np.array([combined_data.query('group_id==@group1 & event_name == @event')['user_id'], \n",
    "                      combined_data.query('group_id==@group2 & event_name == @event')['user_id']])\n",
    "    trials = np.array([users_quantity_by_group.query('group_id == @group1')['user_id'], \n",
    "                   users_quantity_by_group.query('group_id == @group2')['user_id']])\n",
    "    alpha = alpha\n",
    "    \n",
    "    # пропорция успехов в первой группе:\n",
    "    p1 = successes[0]/trials[0]\n",
    "    \n",
    "    # пропорция успехов во второй группе:\n",
    "    p2 = successes[1]/trials[1]\n",
    "    \n",
    "    # пропорция успехов в комбинированном датасете:\n",
    "    p_combined = (successes[0] + successes[1]) / (trials[0] + trials[1])\n",
    "    \n",
    "    # разница пропорций в датасетах\n",
    "    difference = p1 - p2\n",
    "    \n",
    "    # считаем статистику в ст.отклонениях стандартного нормального распределения\n",
    "    z_value = difference[0] / mth.sqrt(p_combined[0] * (1 - p_combined[0]) * (1/trials[0] + 1/trials[1]))\n",
    "    \n",
    "    # задаем стандартное нормальное распределение (среднее 0, ст.отклонение 1)\n",
    "    distr = stats.norm(0, 1) \n",
    "    \n",
    "    p_value = (1 - distr.cdf(abs(z_value))) * 2\n",
    "\n",
    "    Shidaka_alpha = 1 - (1 - alpha)**(1/16)  # метод Шидака для корректировки значения требуемого уровня значимости, учитывая 16 сравнений\n",
    "    \n",
    "    print('p-значение: ', p_value)\n",
    "\n",
    "    if p_value < Shidaka_alpha:\n",
    "        print('Отвергаем нулевую гипотезу: между долями есть значимая разница')\n",
    "    else:\n",
    "        print(\n",
    "        'Не получилось отвергнуть нулевую гипотезу, нет оснований считать доли разными'\n",
    "    )"
   ]
  },
  {
   "cell_type": "markdown",
   "metadata": {},
   "source": [
    "### Проведение z-теста для всех событий групп 246 и 247"
   ]
  },
  {
   "cell_type": "markdown",
   "metadata": {},
   "source": [
    "Прежде всего, необходимо сформулировать гипотезы:\n",
    "1. Нулевая (Ho): доля количества уникальных пользователей на выбранном этапе относительно общего числа пользователей в первой группе равна доли количества уникальных пользователей на выбранном этапе относительно общего числа пользователей во второй группе \n",
    "2. Альтернативная (Н1): доля количества уникальных пользователей на выбранном этапе относительно общего числа пользователей в первой группе не равна доли количества уникальных пользователей на выбранном этапе относительно общего числа пользователей во второй группе \n",
    "\n",
    "alpha = 0.05 - уровень статистической значимости"
   ]
  },
  {
   "cell_type": "code",
   "execution_count": null,
   "metadata": {},
   "outputs": [],
   "source": [
    "get_z_test('MainScreenAppear', 246, 247, 0.05)"
   ]
  },
  {
   "cell_type": "code",
   "execution_count": null,
   "metadata": {},
   "outputs": [],
   "source": [
    "get_z_test('CartScreenAppear', 246, 247, 0.05)"
   ]
  },
  {
   "cell_type": "code",
   "execution_count": null,
   "metadata": {},
   "outputs": [],
   "source": [
    "get_z_test('OffersScreenAppear', 246, 247, 0.05)"
   ]
  },
  {
   "cell_type": "code",
   "execution_count": null,
   "metadata": {
    "scrolled": true
   },
   "outputs": [],
   "source": [
    "get_z_test('PaymentScreenSuccessful', 246, 247, 0.05)"
   ]
  },
  {
   "cell_type": "markdown",
   "metadata": {},
   "source": [
    "Вывод: \n",
    "1. Исходя из результатов можно сделать вывод, что нет оснований считать контрольные выборки групп 246 и 247 разными. Равные доли свидетельствуют о том, что контрольные группы выбраны верны.\n",
    "2. Самым популярным событием является показ главного экрана сайта."
   ]
  },
  {
   "cell_type": "markdown",
   "metadata": {},
   "source": [
    "### Проведение z-теста для всех событий групп 246 и 248"
   ]
  },
  {
   "cell_type": "markdown",
   "metadata": {},
   "source": [
    "Прежде всего, необходимо сформулировать гипотезы:\n",
    "1. Нулевая (Ho): доля количества уникальных пользователей на выбранном этапе относительно общего числа пользователей в первой группе равна доли количества уникальных пользователей на выбранном этапе относительно общего числа пользователей во второй группе \n",
    "2. Альтернативная (Н1): доля количества уникальных пользователей на выбранном этапе относительно общего числа пользователей в первой группе не равна доли количества уникальных пользователей на выбранном этапе относительно общего числа пользователей во второй группе \n",
    "\n",
    "alpha = 0.05 - уровень статистической значимости"
   ]
  },
  {
   "cell_type": "code",
   "execution_count": null,
   "metadata": {},
   "outputs": [],
   "source": [
    "get_z_test('MainScreenAppear', 246, 248, 0.05)"
   ]
  },
  {
   "cell_type": "code",
   "execution_count": null,
   "metadata": {},
   "outputs": [],
   "source": [
    "get_z_test('CartScreenAppear', 246, 248, 0.05)"
   ]
  },
  {
   "cell_type": "code",
   "execution_count": null,
   "metadata": {},
   "outputs": [],
   "source": [
    "get_z_test('OffersScreenAppear', 246, 248, 0.05)"
   ]
  },
  {
   "cell_type": "code",
   "execution_count": null,
   "metadata": {
    "scrolled": true
   },
   "outputs": [],
   "source": [
    "get_z_test('PaymentScreenSuccessful', 246, 248, 0.05)"
   ]
  },
  {
   "cell_type": "markdown",
   "metadata": {},
   "source": [
    "Вывод:  Р-value для всех 4х событий больше 0.05, поэтому нулевую гипотезу о равенстве долей успехов между двумя группами нельзя отвергнуть. Статистически значимых отличий в долях между группами нет."
   ]
  },
  {
   "cell_type": "markdown",
   "metadata": {},
   "source": [
    "### Проведение z-теста для всех событий групп 247 и 248"
   ]
  },
  {
   "cell_type": "markdown",
   "metadata": {},
   "source": [
    "Прежде всего, необходимо сформулировать гипотезы:\n",
    "1. Нулевая (Ho): доля количества уникальных пользователей на выбранном этапе относительно общего числа пользователей в первой группе равна доли количества уникальных пользователей на выбранном этапе относительно общего числа пользователей во второй группе \n",
    "2. Альтернативная (Н1): доля количества уникальных пользователей на выбранном этапе относительно общего числа пользователей в первой группе не равна доли количества уникальных пользователей на выбранном этапе относительно общего числа пользователей во второй группе \n",
    "\n",
    "alpha = 0.05 - уровень статистической значимости"
   ]
  },
  {
   "cell_type": "code",
   "execution_count": null,
   "metadata": {
    "scrolled": true
   },
   "outputs": [],
   "source": [
    "get_z_test('MainScreenAppear', 247, 248, 0.05)"
   ]
  },
  {
   "cell_type": "code",
   "execution_count": null,
   "metadata": {},
   "outputs": [],
   "source": [
    "get_z_test('CartScreenAppear', 247, 248, 0.05)"
   ]
  },
  {
   "cell_type": "code",
   "execution_count": null,
   "metadata": {},
   "outputs": [],
   "source": [
    "get_z_test('OffersScreenAppear', 247, 248, 0.05)"
   ]
  },
  {
   "cell_type": "code",
   "execution_count": null,
   "metadata": {},
   "outputs": [],
   "source": [
    "get_z_test('PaymentScreenSuccessful', 247, 248, 0.05)"
   ]
  },
  {
   "cell_type": "markdown",
   "metadata": {},
   "source": [
    "Вывод: Р-value для всех 4х событий больше 0.05, поэтому нулевую гипотезу о равенстве долей успехов между двумя группами нельзя отвергнуть. Статистически значимых отличий в долях между группами нет."
   ]
  },
  {
   "cell_type": "markdown",
   "metadata": {},
   "source": [
    "### Проведение z-теста для всех событий групп 248 и 249 (объединённая группа из 246, 247)"
   ]
  },
  {
   "cell_type": "markdown",
   "metadata": {},
   "source": [
    "Прежде всего, необходимо сформулировать гипотезы:\n",
    "1. Нулевая (Ho): доля количества уникальных пользователей на выбранном этапе относительно общего числа пользователей в первой группе равна доли количества уникальных пользователей на выбранном этапе относительно общего числа пользователей во второй группе \n",
    "2. Альтернативная (Н1): доля количества уникальных пользователей на выбранном этапе относительно общего числа пользователей в первой группе не равна доли количества уникальных пользователей на выбранном этапе относительно общего числа пользователей во второй группе \n",
    "\n",
    "alpha = 0.05 - уровень статистической значимости"
   ]
  },
  {
   "cell_type": "code",
   "execution_count": null,
   "metadata": {
    "scrolled": false
   },
   "outputs": [],
   "source": [
    "#подготовка таблицы для проведения теста\n",
    "combined_data.loc[13] = (249, 'CartScreenAppear', combined_data.loc[0]['user_id']+combined_data.loc[4]['user_id'])\n",
    "combined_data.loc[14] = (249, 'MainScreenAppear', combined_data.loc[1]['user_id']+combined_data.loc[5]['user_id'])\n",
    "combined_data.loc[15] = (249, 'OffersScreenAppear', combined_data.loc[2]['user_id']+combined_data.loc[6]['user_id'])\n",
    "combined_data.loc[16] = (249, 'PaymentScreenSuccessful', combined_data.loc[3]['user_id']+combined_data.loc[7]['user_id'])\n",
    "combined_data\n"
   ]
  },
  {
   "cell_type": "code",
   "execution_count": null,
   "metadata": {},
   "outputs": [],
   "source": [
    "#подготовка таблицы для проведения теста\n",
    "users_quantity_by_group.loc[3] = (249, users_quantity_by_group.loc[0]['user_id']+users_quantity_by_group.loc[1]['user_id'])\n"
   ]
  },
  {
   "cell_type": "code",
   "execution_count": null,
   "metadata": {},
   "outputs": [],
   "source": [
    "get_z_test('MainScreenAppear', 248, 249, 0.05)"
   ]
  },
  {
   "cell_type": "code",
   "execution_count": null,
   "metadata": {},
   "outputs": [],
   "source": [
    "get_z_test('CartScreenAppear', 248, 249, 0.05)"
   ]
  },
  {
   "cell_type": "code",
   "execution_count": null,
   "metadata": {},
   "outputs": [],
   "source": [
    "get_z_test('OffersScreenAppear', 248, 249, 0.05)"
   ]
  },
  {
   "cell_type": "code",
   "execution_count": null,
   "metadata": {},
   "outputs": [],
   "source": [
    "get_z_test('PaymentScreenSuccessful', 248, 249, 0.05)"
   ]
  },
  {
   "cell_type": "markdown",
   "metadata": {},
   "source": [
    "Вывод:  Р-value для всех 4х событий больше 0.05, поэтому нулевую гипотезу о равенстве долей успехов между двумя группами нельзя отвергнуть. Статистически значимых отличий в долях между группами нет."
   ]
  },
  {
   "cell_type": "markdown",
   "metadata": {},
   "source": [
    "# Общий вывод\n",
    "- В процессе предобработки данных были удалены дубликаты. Из датасета было удалено 0.2% данных. В датасете не было обнаружено пропусков. В таблице были добавлены столбцы с датой.\n",
    "- В датасете присутствуют 5 событий - MainScreenAppear, OffersScreenAppear, CartScreenAppear, PaymentScreenSuccessful, Tutorial. Наиболее популярным является MainScreenAppear, наименее популярным Tutorial\n",
    "- Было определено, что наибольшее количество пользователей теряется на шаге перехода с главной страницы на страницу с предложениями. От первого события до оплаты примерно половина пользователей\n",
    "\n",
    "**Оценка результатов А/А/В-теста**\n",
    "- При расчёте статистической значимости было определено, что нет оснований считать контрольные группы разными.\n",
    "- Нет статистически значимого различия по конверсии пользователей между объеденённой контрольной группой со старым шрифтом и группой с изменённым шрифтом.\n",
    "\n",
    "Результаты теста не показали улучшение метрик (конверсия в целевые действия). Изменение шрифтов никак не повлияло на поведение пользователей.\n",
    "\n",
    "**Рекомендации**\\\n",
    "Для увеличения конверсии в просмотр страницы с предложениями можно выполнить следующие действия:\n",
    "1. Сделать кнопку с переходом на экран с предложениями более заметной\n",
    "2. Добавить всплывающее окно, показывающее текущие акции и предложения"
   ]
  }
 ],
 "metadata": {
  "ExecuteTimeLog": [
   {
    "duration": 1280,
    "start_time": "2023-05-30T02:07:47.294Z"
   },
   {
    "duration": 650,
    "start_time": "2023-05-30T02:09:00.295Z"
   },
   {
    "duration": 17,
    "start_time": "2023-05-30T02:09:20.423Z"
   },
   {
    "duration": 150,
    "start_time": "2023-05-30T02:11:28.816Z"
   },
   {
    "duration": 8,
    "start_time": "2023-05-30T02:11:31.354Z"
   },
   {
    "duration": 152,
    "start_time": "2023-05-30T02:11:40.955Z"
   },
   {
    "duration": 9,
    "start_time": "2023-05-30T02:11:41.430Z"
   },
   {
    "duration": 19,
    "start_time": "2023-05-30T02:12:14.254Z"
   },
   {
    "duration": 319,
    "start_time": "2023-05-30T02:13:36.734Z"
   },
   {
    "duration": 294,
    "start_time": "2023-05-30T02:13:43.317Z"
   },
   {
    "duration": 4,
    "start_time": "2023-05-30T02:16:08.369Z"
   },
   {
    "duration": 11,
    "start_time": "2023-05-30T02:16:12.932Z"
   },
   {
    "duration": 19,
    "start_time": "2023-05-30T02:17:35.807Z"
   },
   {
    "duration": 7,
    "start_time": "2023-05-30T02:18:25.196Z"
   },
   {
    "duration": 57,
    "start_time": "2023-05-30T02:18:48.596Z"
   },
   {
    "duration": 62,
    "start_time": "2023-05-30T02:19:01.435Z"
   },
   {
    "duration": 65,
    "start_time": "2023-05-30T02:19:09.557Z"
   },
   {
    "duration": 65,
    "start_time": "2023-05-30T02:23:16.923Z"
   },
   {
    "duration": 1364,
    "start_time": "2023-05-30T02:23:48.282Z"
   },
   {
    "duration": 9,
    "start_time": "2023-05-30T02:29:35.936Z"
   },
   {
    "duration": 10,
    "start_time": "2023-05-30T02:30:06.587Z"
   },
   {
    "duration": 8,
    "start_time": "2023-05-30T02:30:17.467Z"
   },
   {
    "duration": 12,
    "start_time": "2023-05-30T02:30:27.231Z"
   },
   {
    "duration": 10,
    "start_time": "2023-05-30T02:30:37.721Z"
   },
   {
    "duration": 81,
    "start_time": "2023-05-30T02:37:20.490Z"
   },
   {
    "duration": 13,
    "start_time": "2023-05-30T02:37:32.555Z"
   },
   {
    "duration": 78,
    "start_time": "2023-05-30T02:37:51.357Z"
   },
   {
    "duration": 69,
    "start_time": "2023-05-30T02:38:06.820Z"
   },
   {
    "duration": 94,
    "start_time": "2023-05-30T02:39:32.280Z"
   },
   {
    "duration": 168,
    "start_time": "2023-05-30T02:39:40.512Z"
   },
   {
    "duration": 68,
    "start_time": "2023-05-30T02:39:46.058Z"
   },
   {
    "duration": 86,
    "start_time": "2023-05-30T02:40:13.371Z"
   },
   {
    "duration": 111,
    "start_time": "2023-05-30T02:40:27.117Z"
   },
   {
    "duration": 106,
    "start_time": "2023-05-30T02:40:43.505Z"
   },
   {
    "duration": 1167,
    "start_time": "2023-05-30T02:41:03.476Z"
   },
   {
    "duration": 175,
    "start_time": "2023-05-30T02:41:04.645Z"
   },
   {
    "duration": 28,
    "start_time": "2023-05-30T02:41:04.822Z"
   },
   {
    "duration": 24,
    "start_time": "2023-05-30T02:41:04.853Z"
   },
   {
    "duration": 3,
    "start_time": "2023-05-30T02:41:04.880Z"
   },
   {
    "duration": 12,
    "start_time": "2023-05-30T02:41:04.886Z"
   },
   {
    "duration": 25,
    "start_time": "2023-05-30T02:41:04.900Z"
   },
   {
    "duration": 107,
    "start_time": "2023-05-30T02:41:04.928Z"
   },
   {
    "duration": 87,
    "start_time": "2023-05-30T02:41:05.041Z"
   },
   {
    "duration": 90,
    "start_time": "2023-05-30T02:45:21.269Z"
   },
   {
    "duration": 152,
    "start_time": "2023-05-30T02:45:49.076Z"
   },
   {
    "duration": 281,
    "start_time": "2023-05-30T02:45:58.050Z"
   },
   {
    "duration": 160,
    "start_time": "2023-05-30T02:46:03.270Z"
   },
   {
    "duration": 223,
    "start_time": "2023-05-30T02:46:08.295Z"
   },
   {
    "duration": 162,
    "start_time": "2023-05-30T02:46:21.163Z"
   },
   {
    "duration": 236,
    "start_time": "2023-05-30T02:46:59.111Z"
   },
   {
    "duration": 158,
    "start_time": "2023-05-30T02:47:11.123Z"
   },
   {
    "duration": 157,
    "start_time": "2023-05-30T02:47:27.009Z"
   },
   {
    "duration": 6,
    "start_time": "2023-05-30T02:47:46.877Z"
   },
   {
    "duration": 4,
    "start_time": "2023-05-30T02:47:50.170Z"
   },
   {
    "duration": 5,
    "start_time": "2023-05-30T02:47:59.004Z"
   },
   {
    "duration": 6,
    "start_time": "2023-05-30T02:48:25.862Z"
   },
   {
    "duration": 5,
    "start_time": "2023-05-30T02:48:35.932Z"
   },
   {
    "duration": 159,
    "start_time": "2023-05-30T02:48:43.858Z"
   },
   {
    "duration": 154,
    "start_time": "2023-05-30T02:49:27.407Z"
   },
   {
    "duration": 1213,
    "start_time": "2023-05-30T02:49:41.309Z"
   },
   {
    "duration": 180,
    "start_time": "2023-05-30T02:49:42.524Z"
   },
   {
    "duration": 18,
    "start_time": "2023-05-30T02:49:42.706Z"
   },
   {
    "duration": 48,
    "start_time": "2023-05-30T02:49:42.726Z"
   },
   {
    "duration": 3,
    "start_time": "2023-05-30T02:49:42.777Z"
   },
   {
    "duration": 25,
    "start_time": "2023-05-30T02:49:42.782Z"
   },
   {
    "duration": 43,
    "start_time": "2023-05-30T02:49:42.808Z"
   },
   {
    "duration": 86,
    "start_time": "2023-05-30T02:49:42.852Z"
   },
   {
    "duration": 103,
    "start_time": "2023-05-30T02:49:42.940Z"
   },
   {
    "duration": 164,
    "start_time": "2023-05-30T02:49:43.048Z"
   },
   {
    "duration": 40,
    "start_time": "2023-05-30T02:50:59.990Z"
   },
   {
    "duration": 9,
    "start_time": "2023-05-30T02:51:04.852Z"
   },
   {
    "duration": 12,
    "start_time": "2023-05-30T02:58:00.214Z"
   },
   {
    "duration": 20,
    "start_time": "2023-05-30T02:58:06.114Z"
   },
   {
    "duration": 34,
    "start_time": "2023-05-30T02:59:04.320Z"
   },
   {
    "duration": 1168,
    "start_time": "2023-05-30T02:59:39.375Z"
   },
   {
    "duration": 168,
    "start_time": "2023-05-30T02:59:40.547Z"
   },
   {
    "duration": 13,
    "start_time": "2023-05-30T02:59:40.716Z"
   },
   {
    "duration": 33,
    "start_time": "2023-05-30T02:59:40.730Z"
   },
   {
    "duration": 12,
    "start_time": "2023-05-30T02:59:40.765Z"
   },
   {
    "duration": 12,
    "start_time": "2023-05-30T02:59:40.779Z"
   },
   {
    "duration": 24,
    "start_time": "2023-05-30T02:59:40.792Z"
   },
   {
    "duration": 76,
    "start_time": "2023-05-30T02:59:40.818Z"
   },
   {
    "duration": 87,
    "start_time": "2023-05-30T02:59:40.896Z"
   },
   {
    "duration": 133,
    "start_time": "2023-05-30T02:59:40.984Z"
   },
   {
    "duration": 36,
    "start_time": "2023-05-30T02:59:41.119Z"
   },
   {
    "duration": 408,
    "start_time": "2023-05-30T03:02:21.260Z"
   },
   {
    "duration": 1113,
    "start_time": "2023-05-30T03:02:29.304Z"
   },
   {
    "duration": 167,
    "start_time": "2023-05-30T03:02:30.419Z"
   },
   {
    "duration": 13,
    "start_time": "2023-05-30T03:02:30.588Z"
   },
   {
    "duration": 91,
    "start_time": "2023-05-30T03:02:30.603Z"
   },
   {
    "duration": 3,
    "start_time": "2023-05-30T03:02:30.697Z"
   },
   {
    "duration": 49,
    "start_time": "2023-05-30T03:02:30.702Z"
   },
   {
    "duration": 1319,
    "start_time": "2023-05-30T03:02:30.752Z"
   },
   {
    "duration": 0,
    "start_time": "2023-05-30T03:02:32.073Z"
   },
   {
    "duration": 0,
    "start_time": "2023-05-30T03:02:32.074Z"
   },
   {
    "duration": 0,
    "start_time": "2023-05-30T03:02:32.076Z"
   },
   {
    "duration": 0,
    "start_time": "2023-05-30T03:02:32.077Z"
   },
   {
    "duration": 0,
    "start_time": "2023-05-30T03:02:32.078Z"
   },
   {
    "duration": 19,
    "start_time": "2023-05-30T03:02:59.293Z"
   },
   {
    "duration": 75,
    "start_time": "2023-05-30T03:03:01.933Z"
   },
   {
    "duration": 78,
    "start_time": "2023-05-30T03:03:03.973Z"
   },
   {
    "duration": 166,
    "start_time": "2023-05-30T03:03:05.523Z"
   },
   {
    "duration": 26,
    "start_time": "2023-05-30T03:03:17.419Z"
   },
   {
    "duration": 28,
    "start_time": "2023-05-30T03:03:33.525Z"
   },
   {
    "duration": 11,
    "start_time": "2023-05-30T03:04:41.069Z"
   },
   {
    "duration": 7,
    "start_time": "2023-05-30T03:04:50.467Z"
   },
   {
    "duration": 7,
    "start_time": "2023-05-30T03:04:54.553Z"
   },
   {
    "duration": 6,
    "start_time": "2023-05-30T03:05:04.312Z"
   },
   {
    "duration": 7,
    "start_time": "2023-05-30T03:06:24.380Z"
   },
   {
    "duration": 11,
    "start_time": "2023-05-30T03:08:30.702Z"
   },
   {
    "duration": 25,
    "start_time": "2023-05-30T03:10:02.649Z"
   },
   {
    "duration": 35,
    "start_time": "2023-05-30T03:10:32.926Z"
   },
   {
    "duration": 33,
    "start_time": "2023-05-30T03:10:38.424Z"
   },
   {
    "duration": 87,
    "start_time": "2023-05-30T03:14:03.924Z"
   },
   {
    "duration": 34,
    "start_time": "2023-05-30T03:14:25.898Z"
   },
   {
    "duration": 15,
    "start_time": "2023-05-30T03:15:27.898Z"
   },
   {
    "duration": 9,
    "start_time": "2023-05-30T03:16:40.973Z"
   },
   {
    "duration": 15,
    "start_time": "2023-05-30T03:16:44.712Z"
   },
   {
    "duration": 16,
    "start_time": "2023-05-30T03:16:50.728Z"
   },
   {
    "duration": 17,
    "start_time": "2023-05-30T03:17:28.226Z"
   },
   {
    "duration": 23,
    "start_time": "2023-05-30T03:17:34.141Z"
   },
   {
    "duration": 42,
    "start_time": "2023-05-30T03:18:25.249Z"
   },
   {
    "duration": 6,
    "start_time": "2023-05-30T03:19:02.968Z"
   },
   {
    "duration": 7,
    "start_time": "2023-05-30T03:19:12.105Z"
   },
   {
    "duration": 279,
    "start_time": "2023-05-30T03:19:33.281Z"
   },
   {
    "duration": 8,
    "start_time": "2023-05-30T03:21:08.216Z"
   },
   {
    "duration": 7,
    "start_time": "2023-05-30T03:22:23.391Z"
   },
   {
    "duration": 7,
    "start_time": "2023-05-30T03:22:39.877Z"
   },
   {
    "duration": 15,
    "start_time": "2023-05-30T03:27:15.878Z"
   },
   {
    "duration": 17,
    "start_time": "2023-05-30T03:27:18.266Z"
   },
   {
    "duration": 22,
    "start_time": "2023-05-30T03:27:22.370Z"
   },
   {
    "duration": 7,
    "start_time": "2023-05-30T03:42:18.208Z"
   },
   {
    "duration": 9,
    "start_time": "2023-05-30T03:43:44.494Z"
   },
   {
    "duration": 21,
    "start_time": "2023-05-30T03:44:24.482Z"
   },
   {
    "duration": 21,
    "start_time": "2023-05-30T03:44:31.482Z"
   },
   {
    "duration": 22,
    "start_time": "2023-05-30T03:44:49.522Z"
   },
   {
    "duration": 283,
    "start_time": "2023-05-30T03:46:24.660Z"
   },
   {
    "duration": 301,
    "start_time": "2023-05-30T03:49:40.896Z"
   },
   {
    "duration": 305,
    "start_time": "2023-05-30T03:49:50.686Z"
   },
   {
    "duration": 372,
    "start_time": "2023-05-30T03:49:55.324Z"
   },
   {
    "duration": 345,
    "start_time": "2023-05-30T03:50:00.057Z"
   },
   {
    "duration": 323,
    "start_time": "2023-05-30T03:50:04.521Z"
   },
   {
    "duration": 356,
    "start_time": "2023-05-30T03:55:39.475Z"
   },
   {
    "duration": 335,
    "start_time": "2023-05-30T04:10:56.539Z"
   },
   {
    "duration": 309,
    "start_time": "2023-05-30T04:11:33.431Z"
   },
   {
    "duration": 429,
    "start_time": "2023-05-30T04:11:38.657Z"
   },
   {
    "duration": 320,
    "start_time": "2023-05-30T04:11:43.081Z"
   },
   {
    "duration": 288,
    "start_time": "2023-05-30T04:11:49.013Z"
   },
   {
    "duration": 285,
    "start_time": "2023-05-30T04:11:58.378Z"
   },
   {
    "duration": 256,
    "start_time": "2023-05-30T04:27:44.148Z"
   },
   {
    "duration": 166,
    "start_time": "2023-05-30T04:27:54.515Z"
   },
   {
    "duration": 350,
    "start_time": "2023-05-30T04:28:04.847Z"
   },
   {
    "duration": 257,
    "start_time": "2023-05-30T04:28:07.726Z"
   },
   {
    "duration": 266,
    "start_time": "2023-05-30T04:28:51.132Z"
   },
   {
    "duration": 247,
    "start_time": "2023-05-30T04:29:28.664Z"
   },
   {
    "duration": 283,
    "start_time": "2023-05-30T04:30:41.070Z"
   },
   {
    "duration": 416,
    "start_time": "2023-05-30T04:31:02.898Z"
   },
   {
    "duration": 304,
    "start_time": "2023-05-30T04:31:12.347Z"
   },
   {
    "duration": 306,
    "start_time": "2023-05-30T04:31:31.008Z"
   },
   {
    "duration": 297,
    "start_time": "2023-05-30T04:31:35.121Z"
   },
   {
    "duration": 296,
    "start_time": "2023-05-30T04:31:38.521Z"
   },
   {
    "duration": 314,
    "start_time": "2023-05-30T04:31:41.641Z"
   },
   {
    "duration": 446,
    "start_time": "2023-05-30T04:32:09.058Z"
   },
   {
    "duration": 271,
    "start_time": "2023-05-30T04:32:15.626Z"
   },
   {
    "duration": 378,
    "start_time": "2023-05-30T04:32:20.511Z"
   },
   {
    "duration": 316,
    "start_time": "2023-05-30T04:32:25.401Z"
   },
   {
    "duration": 260,
    "start_time": "2023-05-30T04:32:28.798Z"
   },
   {
    "duration": 409,
    "start_time": "2023-05-30T04:32:32.911Z"
   },
   {
    "duration": 276,
    "start_time": "2023-05-30T04:32:36.914Z"
   },
   {
    "duration": 280,
    "start_time": "2023-05-30T04:32:40.436Z"
   },
   {
    "duration": 1169,
    "start_time": "2023-05-30T04:32:54.436Z"
   },
   {
    "duration": 164,
    "start_time": "2023-05-30T04:32:55.607Z"
   },
   {
    "duration": 16,
    "start_time": "2023-05-30T04:32:55.773Z"
   },
   {
    "duration": 22,
    "start_time": "2023-05-30T04:32:55.791Z"
   },
   {
    "duration": 3,
    "start_time": "2023-05-30T04:32:55.816Z"
   },
   {
    "duration": 32,
    "start_time": "2023-05-30T04:32:55.820Z"
   },
   {
    "duration": 28,
    "start_time": "2023-05-30T04:32:55.857Z"
   },
   {
    "duration": 75,
    "start_time": "2023-05-30T04:32:55.886Z"
   },
   {
    "duration": 81,
    "start_time": "2023-05-30T04:32:55.962Z"
   },
   {
    "duration": 166,
    "start_time": "2023-05-30T04:32:56.044Z"
   },
   {
    "duration": 41,
    "start_time": "2023-05-30T04:32:56.212Z"
   },
   {
    "duration": 37,
    "start_time": "2023-05-30T04:32:56.254Z"
   },
   {
    "duration": 21,
    "start_time": "2023-05-30T04:32:56.292Z"
   },
   {
    "duration": 391,
    "start_time": "2023-05-30T04:32:56.315Z"
   },
   {
    "duration": 350,
    "start_time": "2023-05-30T04:32:56.708Z"
   },
   {
    "duration": 10,
    "start_time": "2023-05-30T04:36:32.299Z"
   },
   {
    "duration": 27,
    "start_time": "2023-05-30T04:37:11.597Z"
   },
   {
    "duration": 13,
    "start_time": "2023-05-30T04:37:18.037Z"
   },
   {
    "duration": 4,
    "start_time": "2023-05-30T04:37:32.733Z"
   },
   {
    "duration": 5,
    "start_time": "2023-05-30T04:37:38.207Z"
   },
   {
    "duration": 5,
    "start_time": "2023-05-30T04:37:49.022Z"
   },
   {
    "duration": 103,
    "start_time": "2023-05-30T04:39:30.019Z"
   },
   {
    "duration": 10,
    "start_time": "2023-05-30T04:39:34.697Z"
   },
   {
    "duration": 9,
    "start_time": "2023-05-30T04:39:41.729Z"
   },
   {
    "duration": 18,
    "start_time": "2023-05-30T04:42:31.698Z"
   },
   {
    "duration": 8,
    "start_time": "2023-05-30T04:43:31.891Z"
   },
   {
    "duration": 6,
    "start_time": "2023-05-30T04:43:39.126Z"
   },
   {
    "duration": 4,
    "start_time": "2023-05-30T04:46:45.879Z"
   },
   {
    "duration": 4,
    "start_time": "2023-05-30T04:46:51.716Z"
   },
   {
    "duration": 4,
    "start_time": "2023-05-30T04:46:54.812Z"
   },
   {
    "duration": 5,
    "start_time": "2023-05-30T04:47:00.881Z"
   },
   {
    "duration": 5,
    "start_time": "2023-05-30T04:47:23.256Z"
   },
   {
    "duration": 4,
    "start_time": "2023-05-30T04:47:28.099Z"
   },
   {
    "duration": 99,
    "start_time": "2023-05-30T04:47:48.199Z"
   },
   {
    "duration": 6,
    "start_time": "2023-05-30T04:47:55.622Z"
   },
   {
    "duration": 197,
    "start_time": "2023-05-30T04:48:01.861Z"
   },
   {
    "duration": 3,
    "start_time": "2023-05-30T04:49:06.834Z"
   },
   {
    "duration": 18,
    "start_time": "2023-05-30T04:51:03.737Z"
   },
   {
    "duration": 4,
    "start_time": "2023-05-30T04:51:15.205Z"
   },
   {
    "duration": 4,
    "start_time": "2023-05-30T04:51:25.118Z"
   },
   {
    "duration": 5,
    "start_time": "2023-05-30T04:51:53.929Z"
   },
   {
    "duration": 22,
    "start_time": "2023-05-30T04:52:20.796Z"
   },
   {
    "duration": 53,
    "start_time": "2023-05-30T04:53:53.337Z"
   },
   {
    "duration": 36,
    "start_time": "2023-05-30T04:54:08.892Z"
   },
   {
    "duration": 37,
    "start_time": "2023-05-30T04:54:40.357Z"
   },
   {
    "duration": 39,
    "start_time": "2023-05-30T04:55:29.734Z"
   },
   {
    "duration": 5,
    "start_time": "2023-05-30T04:56:41.886Z"
   },
   {
    "duration": 12,
    "start_time": "2023-05-30T04:58:34.616Z"
   },
   {
    "duration": 10,
    "start_time": "2023-05-30T04:58:37.959Z"
   },
   {
    "duration": 31,
    "start_time": "2023-05-30T05:04:17.046Z"
   },
   {
    "duration": 34,
    "start_time": "2023-05-30T05:04:29.416Z"
   },
   {
    "duration": 27,
    "start_time": "2023-05-30T05:04:50.351Z"
   },
   {
    "duration": 28,
    "start_time": "2023-05-30T05:06:06.784Z"
   },
   {
    "duration": 29,
    "start_time": "2023-05-30T05:06:14.106Z"
   },
   {
    "duration": 28,
    "start_time": "2023-05-30T05:06:44.367Z"
   },
   {
    "duration": 31,
    "start_time": "2023-05-30T05:13:38.530Z"
   },
   {
    "duration": 112,
    "start_time": "2023-05-30T05:18:57.029Z"
   },
   {
    "duration": 92,
    "start_time": "2023-05-30T05:19:10.105Z"
   },
   {
    "duration": 82,
    "start_time": "2023-05-30T05:19:15.777Z"
   },
   {
    "duration": 92,
    "start_time": "2023-05-30T05:19:18.385Z"
   },
   {
    "duration": 118,
    "start_time": "2023-05-30T05:33:46.004Z"
   },
   {
    "duration": 32,
    "start_time": "2023-05-30T05:33:50.263Z"
   },
   {
    "duration": 23,
    "start_time": "2023-05-30T05:34:14.814Z"
   },
   {
    "duration": 24,
    "start_time": "2023-05-30T05:34:20.812Z"
   },
   {
    "duration": 27,
    "start_time": "2023-05-30T05:42:05.157Z"
   },
   {
    "duration": 62,
    "start_time": "2023-05-30T05:42:25.506Z"
   },
   {
    "duration": 69,
    "start_time": "2023-05-30T05:43:08.040Z"
   },
   {
    "duration": 58,
    "start_time": "2023-05-30T05:44:55.373Z"
   },
   {
    "duration": 69,
    "start_time": "2023-05-30T05:46:43.168Z"
   },
   {
    "duration": 57,
    "start_time": "2023-05-30T05:46:47.214Z"
   },
   {
    "duration": 75,
    "start_time": "2023-05-30T05:46:54.137Z"
   },
   {
    "duration": 67,
    "start_time": "2023-05-30T05:47:39.135Z"
   },
   {
    "duration": 5,
    "start_time": "2023-05-30T05:47:54.989Z"
   },
   {
    "duration": 118,
    "start_time": "2023-05-30T05:51:27.320Z"
   },
   {
    "duration": 31,
    "start_time": "2023-05-30T05:51:32.539Z"
   },
   {
    "duration": 27,
    "start_time": "2023-05-30T05:51:49.305Z"
   },
   {
    "duration": 73,
    "start_time": "2023-05-30T05:51:57.637Z"
   },
   {
    "duration": 74,
    "start_time": "2023-05-30T05:55:34.498Z"
   },
   {
    "duration": 82,
    "start_time": "2023-05-30T05:55:58.368Z"
   },
   {
    "duration": 59,
    "start_time": "2023-05-30T05:56:04.258Z"
   },
   {
    "duration": 128,
    "start_time": "2023-05-30T05:59:06.401Z"
   },
   {
    "duration": 121,
    "start_time": "2023-05-30T05:59:25.483Z"
   },
   {
    "duration": 121,
    "start_time": "2023-05-30T05:59:41.483Z"
   },
   {
    "duration": 571,
    "start_time": "2023-05-30T06:02:02.221Z"
   },
   {
    "duration": 119,
    "start_time": "2023-05-30T06:02:13.558Z"
   },
   {
    "duration": 24,
    "start_time": "2023-05-30T06:06:59.323Z"
   },
   {
    "duration": 27,
    "start_time": "2023-05-30T06:07:04.959Z"
   },
   {
    "duration": 134,
    "start_time": "2023-05-30T06:07:46.583Z"
   },
   {
    "duration": 52,
    "start_time": "2023-05-30T06:11:35.258Z"
   },
   {
    "duration": 58,
    "start_time": "2023-05-30T06:11:44.426Z"
   },
   {
    "duration": 9,
    "start_time": "2023-05-30T06:12:45.693Z"
   },
   {
    "duration": 77,
    "start_time": "2023-05-30T06:13:34.978Z"
   },
   {
    "duration": 86,
    "start_time": "2023-05-30T06:13:40.562Z"
   },
   {
    "duration": 105,
    "start_time": "2023-05-30T06:13:48.221Z"
   },
   {
    "duration": 74,
    "start_time": "2023-05-30T06:14:07.938Z"
   },
   {
    "duration": 73,
    "start_time": "2023-05-30T06:14:12.384Z"
   },
   {
    "duration": 1174,
    "start_time": "2023-05-30T06:34:16.751Z"
   },
   {
    "duration": 170,
    "start_time": "2023-05-30T06:34:17.927Z"
   },
   {
    "duration": 15,
    "start_time": "2023-05-30T06:34:18.098Z"
   },
   {
    "duration": 36,
    "start_time": "2023-05-30T06:34:18.115Z"
   },
   {
    "duration": 3,
    "start_time": "2023-05-30T06:34:18.154Z"
   },
   {
    "duration": 49,
    "start_time": "2023-05-30T06:34:18.162Z"
   },
   {
    "duration": 34,
    "start_time": "2023-05-30T06:34:18.213Z"
   },
   {
    "duration": 82,
    "start_time": "2023-05-30T06:34:18.249Z"
   },
   {
    "duration": 92,
    "start_time": "2023-05-30T06:34:18.342Z"
   },
   {
    "duration": 149,
    "start_time": "2023-05-30T06:34:18.448Z"
   },
   {
    "duration": 33,
    "start_time": "2023-05-30T06:34:18.600Z"
   },
   {
    "duration": 45,
    "start_time": "2023-05-30T06:34:18.644Z"
   },
   {
    "duration": 22,
    "start_time": "2023-05-30T06:34:18.691Z"
   },
   {
    "duration": 407,
    "start_time": "2023-05-30T06:34:18.715Z"
   },
   {
    "duration": 74,
    "start_time": "2023-05-30T06:34:19.125Z"
   },
   {
    "duration": 12,
    "start_time": "2023-05-30T06:34:19.201Z"
   },
   {
    "duration": 64,
    "start_time": "2023-05-30T06:34:19.215Z"
   },
   {
    "duration": 102,
    "start_time": "2023-05-30T06:34:19.282Z"
   },
   {
    "duration": 10,
    "start_time": "2023-05-30T06:48:44.805Z"
   },
   {
    "duration": 13,
    "start_time": "2023-05-30T06:49:47.092Z"
   },
   {
    "duration": 14,
    "start_time": "2023-05-30T06:57:53.110Z"
   },
   {
    "duration": 21,
    "start_time": "2023-05-30T06:58:01.542Z"
   },
   {
    "duration": 17,
    "start_time": "2023-05-30T07:03:03.803Z"
   },
   {
    "duration": 14,
    "start_time": "2023-05-30T07:03:27.906Z"
   },
   {
    "duration": 14,
    "start_time": "2023-05-30T07:04:36.606Z"
   },
   {
    "duration": 11,
    "start_time": "2023-05-30T07:04:41.158Z"
   },
   {
    "duration": 15,
    "start_time": "2023-05-30T07:04:45.657Z"
   },
   {
    "duration": 1169,
    "start_time": "2023-05-30T07:04:51.519Z"
   },
   {
    "duration": 168,
    "start_time": "2023-05-30T07:04:52.690Z"
   },
   {
    "duration": 14,
    "start_time": "2023-05-30T07:04:52.860Z"
   },
   {
    "duration": 29,
    "start_time": "2023-05-30T07:04:52.876Z"
   },
   {
    "duration": 3,
    "start_time": "2023-05-30T07:04:52.908Z"
   },
   {
    "duration": 20,
    "start_time": "2023-05-30T07:04:52.912Z"
   },
   {
    "duration": 45,
    "start_time": "2023-05-30T07:04:52.934Z"
   },
   {
    "duration": 84,
    "start_time": "2023-05-30T07:04:52.980Z"
   },
   {
    "duration": 108,
    "start_time": "2023-05-30T07:04:53.067Z"
   },
   {
    "duration": 142,
    "start_time": "2023-05-30T07:04:53.176Z"
   },
   {
    "duration": 45,
    "start_time": "2023-05-30T07:04:53.319Z"
   },
   {
    "duration": 37,
    "start_time": "2023-05-30T07:04:53.366Z"
   },
   {
    "duration": 53,
    "start_time": "2023-05-30T07:04:53.405Z"
   },
   {
    "duration": 392,
    "start_time": "2023-05-30T07:04:53.462Z"
   },
   {
    "duration": 49,
    "start_time": "2023-05-30T07:04:53.855Z"
   },
   {
    "duration": 9,
    "start_time": "2023-05-30T07:04:53.905Z"
   },
   {
    "duration": 56,
    "start_time": "2023-05-30T07:04:53.916Z"
   },
   {
    "duration": 77,
    "start_time": "2023-05-30T07:04:53.974Z"
   },
   {
    "duration": 19,
    "start_time": "2023-05-30T07:04:54.062Z"
   },
   {
    "duration": 89,
    "start_time": "2023-05-30T07:04:54.082Z"
   },
   {
    "duration": 13,
    "start_time": "2023-05-30T07:05:33.417Z"
   },
   {
    "duration": 13,
    "start_time": "2023-05-30T07:07:10.980Z"
   },
   {
    "duration": 4,
    "start_time": "2023-05-30T07:11:50.457Z"
   },
   {
    "duration": 4,
    "start_time": "2023-05-30T07:13:25.318Z"
   },
   {
    "duration": 4,
    "start_time": "2023-05-30T07:14:24.420Z"
   },
   {
    "duration": 4,
    "start_time": "2023-05-30T07:14:32.765Z"
   },
   {
    "duration": 5,
    "start_time": "2023-05-30T07:14:37.302Z"
   },
   {
    "duration": 4,
    "start_time": "2023-05-30T07:14:56.157Z"
   },
   {
    "duration": 5,
    "start_time": "2023-05-30T07:15:00.028Z"
   },
   {
    "duration": 5,
    "start_time": "2023-05-30T07:15:13.726Z"
   },
   {
    "duration": 1135,
    "start_time": "2023-05-30T07:15:34.691Z"
   },
   {
    "duration": 183,
    "start_time": "2023-05-30T07:15:35.829Z"
   },
   {
    "duration": 12,
    "start_time": "2023-05-30T07:15:36.015Z"
   },
   {
    "duration": 30,
    "start_time": "2023-05-30T07:15:36.029Z"
   },
   {
    "duration": 10,
    "start_time": "2023-05-30T07:15:36.061Z"
   },
   {
    "duration": 23,
    "start_time": "2023-05-30T07:15:36.073Z"
   },
   {
    "duration": 41,
    "start_time": "2023-05-30T07:15:36.098Z"
   },
   {
    "duration": 92,
    "start_time": "2023-05-30T07:15:36.143Z"
   },
   {
    "duration": 83,
    "start_time": "2023-05-30T07:15:36.236Z"
   },
   {
    "duration": 143,
    "start_time": "2023-05-30T07:15:36.321Z"
   },
   {
    "duration": 26,
    "start_time": "2023-05-30T07:15:36.466Z"
   },
   {
    "duration": 63,
    "start_time": "2023-05-30T07:15:36.494Z"
   },
   {
    "duration": 23,
    "start_time": "2023-05-30T07:15:36.559Z"
   },
   {
    "duration": 395,
    "start_time": "2023-05-30T07:15:36.584Z"
   },
   {
    "duration": 66,
    "start_time": "2023-05-30T07:15:36.981Z"
   },
   {
    "duration": 14,
    "start_time": "2023-05-30T07:15:37.048Z"
   },
   {
    "duration": 31,
    "start_time": "2023-05-30T07:15:37.064Z"
   },
   {
    "duration": 76,
    "start_time": "2023-05-30T07:15:37.097Z"
   },
   {
    "duration": 16,
    "start_time": "2023-05-30T07:15:37.175Z"
   },
   {
    "duration": 7,
    "start_time": "2023-05-30T07:15:37.192Z"
   },
   {
    "duration": 100,
    "start_time": "2023-05-30T07:18:47.369Z"
   },
   {
    "duration": 1235,
    "start_time": "2023-05-30T07:18:53.356Z"
   },
   {
    "duration": 167,
    "start_time": "2023-05-30T07:18:54.593Z"
   },
   {
    "duration": 13,
    "start_time": "2023-05-30T07:18:54.762Z"
   },
   {
    "duration": 21,
    "start_time": "2023-05-30T07:18:54.777Z"
   },
   {
    "duration": 3,
    "start_time": "2023-05-30T07:18:54.800Z"
   },
   {
    "duration": 17,
    "start_time": "2023-05-30T07:18:54.804Z"
   },
   {
    "duration": 55,
    "start_time": "2023-05-30T07:18:54.823Z"
   },
   {
    "duration": 76,
    "start_time": "2023-05-30T07:18:54.880Z"
   },
   {
    "duration": 78,
    "start_time": "2023-05-30T07:18:54.959Z"
   },
   {
    "duration": 149,
    "start_time": "2023-05-30T07:18:55.039Z"
   },
   {
    "duration": 27,
    "start_time": "2023-05-30T07:18:55.190Z"
   },
   {
    "duration": 55,
    "start_time": "2023-05-30T07:18:55.218Z"
   },
   {
    "duration": 23,
    "start_time": "2023-05-30T07:18:55.275Z"
   },
   {
    "duration": 400,
    "start_time": "2023-05-30T07:18:55.301Z"
   },
   {
    "duration": 60,
    "start_time": "2023-05-30T07:18:55.702Z"
   },
   {
    "duration": 9,
    "start_time": "2023-05-30T07:18:55.763Z"
   },
   {
    "duration": 29,
    "start_time": "2023-05-30T07:18:55.773Z"
   },
   {
    "duration": 82,
    "start_time": "2023-05-30T07:18:55.804Z"
   },
   {
    "duration": 12,
    "start_time": "2023-05-30T07:18:55.888Z"
   },
   {
    "duration": 7,
    "start_time": "2023-05-30T07:18:55.901Z"
   },
   {
    "duration": 6,
    "start_time": "2023-05-30T07:20:08.061Z"
   },
   {
    "duration": 130,
    "start_time": "2023-05-30T07:23:07.680Z"
   },
   {
    "duration": 733,
    "start_time": "2023-05-30T07:23:17.491Z"
   },
   {
    "duration": 15,
    "start_time": "2023-05-30T07:27:40.599Z"
   },
   {
    "duration": 49,
    "start_time": "2023-05-30T07:27:47.061Z"
   },
   {
    "duration": 45,
    "start_time": "2023-05-30T07:28:11.964Z"
   },
   {
    "duration": 1384,
    "start_time": "2023-05-30T07:30:07.927Z"
   },
   {
    "duration": 166,
    "start_time": "2023-05-30T07:30:09.313Z"
   },
   {
    "duration": 18,
    "start_time": "2023-05-30T07:30:09.481Z"
   },
   {
    "duration": 20,
    "start_time": "2023-05-30T07:30:09.504Z"
   },
   {
    "duration": 4,
    "start_time": "2023-05-30T07:30:09.541Z"
   },
   {
    "duration": 16,
    "start_time": "2023-05-30T07:30:09.555Z"
   },
   {
    "duration": 27,
    "start_time": "2023-05-30T07:30:09.573Z"
   },
   {
    "duration": 76,
    "start_time": "2023-05-30T07:30:09.602Z"
   },
   {
    "duration": 94,
    "start_time": "2023-05-30T07:30:09.680Z"
   },
   {
    "duration": 138,
    "start_time": "2023-05-30T07:30:09.776Z"
   },
   {
    "duration": 54,
    "start_time": "2023-05-30T07:30:09.916Z"
   },
   {
    "duration": 45,
    "start_time": "2023-05-30T07:30:09.972Z"
   },
   {
    "duration": 46,
    "start_time": "2023-05-30T07:30:10.019Z"
   },
   {
    "duration": 406,
    "start_time": "2023-05-30T07:30:10.067Z"
   },
   {
    "duration": 84,
    "start_time": "2023-05-30T07:30:10.476Z"
   },
   {
    "duration": 11,
    "start_time": "2023-05-30T07:30:10.563Z"
   },
   {
    "duration": 45,
    "start_time": "2023-05-30T07:30:10.576Z"
   },
   {
    "duration": 82,
    "start_time": "2023-05-30T07:30:10.623Z"
   },
   {
    "duration": 17,
    "start_time": "2023-05-30T07:30:10.708Z"
   },
   {
    "duration": 483,
    "start_time": "2023-05-30T07:30:10.727Z"
   },
   {
    "duration": 30,
    "start_time": "2023-05-30T07:30:11.215Z"
   },
   {
    "duration": 11,
    "start_time": "2023-05-30T07:34:29.720Z"
   },
   {
    "duration": 18,
    "start_time": "2023-05-30T07:35:08.723Z"
   },
   {
    "duration": 179,
    "start_time": "2023-05-30T09:19:36.372Z"
   },
   {
    "duration": 11,
    "start_time": "2023-05-30T09:19:49.173Z"
   },
   {
    "duration": 40,
    "start_time": "2023-05-30T09:20:25.889Z"
   },
   {
    "duration": 37,
    "start_time": "2023-05-30T09:20:38.883Z"
   },
   {
    "duration": 37,
    "start_time": "2023-05-30T09:20:51.068Z"
   },
   {
    "duration": 33,
    "start_time": "2023-05-30T09:20:59.159Z"
   },
   {
    "duration": 15,
    "start_time": "2023-05-30T09:58:27.911Z"
   },
   {
    "duration": 67,
    "start_time": "2023-05-30T09:59:20.416Z"
   },
   {
    "duration": 54,
    "start_time": "2023-05-30T09:59:37.171Z"
   },
   {
    "duration": 70,
    "start_time": "2023-05-30T09:59:51.461Z"
   },
   {
    "duration": 57,
    "start_time": "2023-05-30T09:59:56.738Z"
   },
   {
    "duration": 1420,
    "start_time": "2023-05-30T10:04:21.104Z"
   },
   {
    "duration": 183,
    "start_time": "2023-05-30T10:04:22.526Z"
   },
   {
    "duration": 19,
    "start_time": "2023-05-30T10:04:22.711Z"
   },
   {
    "duration": 74,
    "start_time": "2023-05-30T10:04:22.743Z"
   },
   {
    "duration": 8,
    "start_time": "2023-05-30T10:04:22.820Z"
   },
   {
    "duration": 52,
    "start_time": "2023-05-30T10:04:22.830Z"
   },
   {
    "duration": 34,
    "start_time": "2023-05-30T10:04:22.884Z"
   },
   {
    "duration": 112,
    "start_time": "2023-05-30T10:04:22.921Z"
   },
   {
    "duration": 120,
    "start_time": "2023-05-30T10:04:23.035Z"
   },
   {
    "duration": 159,
    "start_time": "2023-05-30T10:04:23.157Z"
   },
   {
    "duration": 49,
    "start_time": "2023-05-30T10:04:23.318Z"
   },
   {
    "duration": 49,
    "start_time": "2023-05-30T10:04:23.370Z"
   },
   {
    "duration": 35,
    "start_time": "2023-05-30T10:04:23.445Z"
   },
   {
    "duration": 490,
    "start_time": "2023-05-30T10:04:23.483Z"
   },
   {
    "duration": 72,
    "start_time": "2023-05-30T10:04:23.975Z"
   },
   {
    "duration": 35,
    "start_time": "2023-05-30T10:04:24.049Z"
   },
   {
    "duration": 108,
    "start_time": "2023-05-30T10:04:24.086Z"
   },
   {
    "duration": 17,
    "start_time": "2023-05-30T10:04:24.196Z"
   },
   {
    "duration": 2490,
    "start_time": "2023-05-30T10:04:24.215Z"
   },
   {
    "duration": 36,
    "start_time": "2023-05-30T10:04:26.708Z"
   },
   {
    "duration": 135,
    "start_time": "2023-05-30T10:04:26.746Z"
   },
   {
    "duration": 98,
    "start_time": "2023-05-30T10:04:26.884Z"
   },
   {
    "duration": 18,
    "start_time": "2023-05-30T10:04:27.003Z"
   },
   {
    "duration": 28,
    "start_time": "2023-05-30T10:06:30.932Z"
   },
   {
    "duration": 24,
    "start_time": "2023-05-30T10:08:19.498Z"
   },
   {
    "duration": 20,
    "start_time": "2023-05-30T10:08:33.058Z"
   },
   {
    "duration": 30,
    "start_time": "2023-05-30T10:09:17.789Z"
   },
   {
    "duration": 20,
    "start_time": "2023-05-30T10:10:00.658Z"
   },
   {
    "duration": 14,
    "start_time": "2023-05-30T10:10:23.307Z"
   },
   {
    "duration": 192,
    "start_time": "2023-05-30T10:10:47.896Z"
   },
   {
    "duration": 22,
    "start_time": "2023-05-30T10:11:04.018Z"
   },
   {
    "duration": 33,
    "start_time": "2023-05-30T10:11:18.745Z"
   },
   {
    "duration": 17,
    "start_time": "2023-05-30T10:11:59.616Z"
   },
   {
    "duration": 27,
    "start_time": "2023-05-30T10:12:36.031Z"
   },
   {
    "duration": 21,
    "start_time": "2023-05-30T10:12:43.024Z"
   },
   {
    "duration": 35,
    "start_time": "2023-05-30T10:13:04.433Z"
   },
   {
    "duration": 5,
    "start_time": "2023-05-30T10:19:27.910Z"
   },
   {
    "duration": 22,
    "start_time": "2023-05-30T10:20:34.567Z"
   },
   {
    "duration": 19,
    "start_time": "2023-05-30T10:20:43.302Z"
   },
   {
    "duration": 27,
    "start_time": "2023-05-30T10:20:46.220Z"
   },
   {
    "duration": 25,
    "start_time": "2023-05-30T10:20:55.437Z"
   },
   {
    "duration": 48,
    "start_time": "2023-05-30T10:21:39.211Z"
   },
   {
    "duration": 29,
    "start_time": "2023-05-30T10:21:51.935Z"
   },
   {
    "duration": 21,
    "start_time": "2023-05-30T10:22:17.671Z"
   },
   {
    "duration": 18,
    "start_time": "2023-05-30T10:22:26.320Z"
   },
   {
    "duration": 14,
    "start_time": "2023-05-30T10:23:05.286Z"
   },
   {
    "duration": 13,
    "start_time": "2023-05-30T10:23:17.405Z"
   },
   {
    "duration": 62,
    "start_time": "2023-05-30T10:25:15.022Z"
   },
   {
    "duration": 23,
    "start_time": "2023-05-30T10:26:50.258Z"
   },
   {
    "duration": 22,
    "start_time": "2023-05-30T10:26:50.929Z"
   },
   {
    "duration": 64,
    "start_time": "2023-05-30T10:28:40.169Z"
   },
   {
    "duration": 7,
    "start_time": "2023-05-30T11:34:16.715Z"
   },
   {
    "duration": 8,
    "start_time": "2023-05-30T11:34:20.417Z"
   },
   {
    "duration": 112,
    "start_time": "2023-05-30T11:38:25.374Z"
   },
   {
    "duration": 11,
    "start_time": "2023-05-30T11:38:47.320Z"
   },
   {
    "duration": 14,
    "start_time": "2023-05-30T11:40:15.314Z"
   },
   {
    "duration": 143,
    "start_time": "2023-05-30T11:41:31.941Z"
   },
   {
    "duration": 114,
    "start_time": "2023-05-30T11:41:38.717Z"
   },
   {
    "duration": 91,
    "start_time": "2023-05-30T11:42:07.215Z"
   },
   {
    "duration": 153,
    "start_time": "2023-05-30T11:42:34.630Z"
   },
   {
    "duration": 65,
    "start_time": "2023-05-30T11:46:07.016Z"
   },
   {
    "duration": 117,
    "start_time": "2023-05-30T11:47:42.085Z"
   },
   {
    "duration": 125,
    "start_time": "2023-05-30T11:47:52.272Z"
   },
   {
    "duration": 1498,
    "start_time": "2023-05-30T11:48:12.771Z"
   },
   {
    "duration": 188,
    "start_time": "2023-05-30T11:48:14.272Z"
   },
   {
    "duration": 17,
    "start_time": "2023-05-30T11:48:14.473Z"
   },
   {
    "duration": 20,
    "start_time": "2023-05-30T11:48:14.492Z"
   },
   {
    "duration": 3,
    "start_time": "2023-05-30T11:48:14.514Z"
   },
   {
    "duration": 42,
    "start_time": "2023-05-30T11:48:14.519Z"
   },
   {
    "duration": 49,
    "start_time": "2023-05-30T11:48:14.562Z"
   },
   {
    "duration": 84,
    "start_time": "2023-05-30T11:48:14.612Z"
   },
   {
    "duration": 107,
    "start_time": "2023-05-30T11:48:14.698Z"
   },
   {
    "duration": 181,
    "start_time": "2023-05-30T11:48:14.808Z"
   },
   {
    "duration": 40,
    "start_time": "2023-05-30T11:48:14.991Z"
   },
   {
    "duration": 51,
    "start_time": "2023-05-30T11:48:15.046Z"
   },
   {
    "duration": 26,
    "start_time": "2023-05-30T11:48:15.101Z"
   },
   {
    "duration": 468,
    "start_time": "2023-05-30T11:48:15.129Z"
   },
   {
    "duration": 71,
    "start_time": "2023-05-30T11:48:15.600Z"
   },
   {
    "duration": 45,
    "start_time": "2023-05-30T11:48:15.676Z"
   },
   {
    "duration": 90,
    "start_time": "2023-05-30T11:48:15.723Z"
   },
   {
    "duration": 29,
    "start_time": "2023-05-30T11:48:15.816Z"
   },
   {
    "duration": 578,
    "start_time": "2023-05-30T11:48:15.854Z"
   },
   {
    "duration": 6,
    "start_time": "2023-05-30T11:48:16.434Z"
   },
   {
    "duration": 35,
    "start_time": "2023-05-30T11:48:16.460Z"
   },
   {
    "duration": 114,
    "start_time": "2023-05-30T11:48:16.497Z"
   },
   {
    "duration": 91,
    "start_time": "2023-05-30T11:48:16.612Z"
   },
   {
    "duration": 121,
    "start_time": "2023-05-30T11:48:16.705Z"
   },
   {
    "duration": 6,
    "start_time": "2023-05-30T11:48:16.828Z"
   },
   {
    "duration": 189,
    "start_time": "2023-05-30T11:59:30.558Z"
   },
   {
    "duration": 31,
    "start_time": "2023-05-30T12:00:32.764Z"
   },
   {
    "duration": 151,
    "start_time": "2023-05-30T12:00:46.970Z"
   },
   {
    "duration": 144,
    "start_time": "2023-05-30T12:01:02.067Z"
   },
   {
    "duration": 126,
    "start_time": "2023-05-30T12:05:28.705Z"
   },
   {
    "duration": 117,
    "start_time": "2023-05-30T12:05:36.061Z"
   },
   {
    "duration": 113,
    "start_time": "2023-05-30T12:06:33.914Z"
   },
   {
    "duration": 133,
    "start_time": "2023-05-30T12:06:54.460Z"
   },
   {
    "duration": 120,
    "start_time": "2023-05-30T12:07:00.458Z"
   },
   {
    "duration": 113,
    "start_time": "2023-05-30T12:07:05.386Z"
   },
   {
    "duration": 17,
    "start_time": "2023-05-30T12:08:04.166Z"
   },
   {
    "duration": 16,
    "start_time": "2023-05-30T12:08:36.863Z"
   },
   {
    "duration": 134,
    "start_time": "2023-05-30T12:08:55.489Z"
   },
   {
    "duration": 12,
    "start_time": "2023-05-30T12:08:57.170Z"
   },
   {
    "duration": 11,
    "start_time": "2023-05-30T12:09:05.861Z"
   },
   {
    "duration": 1905,
    "start_time": "2023-05-30T12:09:25.484Z"
   },
   {
    "duration": 514,
    "start_time": "2023-05-30T12:10:15.569Z"
   },
   {
    "duration": 132,
    "start_time": "2023-05-30T12:11:21.271Z"
   },
   {
    "duration": 132,
    "start_time": "2023-05-30T12:11:56.559Z"
   },
   {
    "duration": 1794,
    "start_time": "2023-05-30T12:27:22.871Z"
   },
   {
    "duration": 1616,
    "start_time": "2023-05-30T12:27:31.447Z"
   },
   {
    "duration": 94,
    "start_time": "2023-05-30T12:29:36.589Z"
   },
   {
    "duration": 92,
    "start_time": "2023-05-30T12:29:44.259Z"
   },
   {
    "duration": 149,
    "start_time": "2023-05-30T12:29:48.477Z"
   },
   {
    "duration": 112,
    "start_time": "2023-05-30T12:29:58.925Z"
   },
   {
    "duration": 96,
    "start_time": "2023-05-30T12:30:31.300Z"
   },
   {
    "duration": 109,
    "start_time": "2023-05-30T12:31:01.523Z"
   },
   {
    "duration": 149,
    "start_time": "2023-05-30T12:32:42.307Z"
   },
   {
    "duration": 116,
    "start_time": "2023-05-30T12:32:49.050Z"
   },
   {
    "duration": 104,
    "start_time": "2023-05-30T12:34:06.807Z"
   },
   {
    "duration": 152,
    "start_time": "2023-05-30T12:34:14.060Z"
   },
   {
    "duration": 9,
    "start_time": "2023-05-30T12:34:33.592Z"
   },
   {
    "duration": 9,
    "start_time": "2023-05-30T12:38:36.668Z"
   },
   {
    "duration": 38,
    "start_time": "2023-05-30T12:38:54.902Z"
   },
   {
    "duration": 31,
    "start_time": "2023-05-30T12:39:03.468Z"
   },
   {
    "duration": 13,
    "start_time": "2023-05-30T12:39:05.922Z"
   },
   {
    "duration": 16,
    "start_time": "2023-05-30T12:39:10.960Z"
   },
   {
    "duration": 14,
    "start_time": "2023-05-30T12:41:38.106Z"
   },
   {
    "duration": 22,
    "start_time": "2023-05-30T12:41:58.663Z"
   },
   {
    "duration": 9,
    "start_time": "2023-05-30T12:51:58.959Z"
   },
   {
    "duration": 15,
    "start_time": "2023-05-30T12:52:39.685Z"
   },
   {
    "duration": 39,
    "start_time": "2023-05-30T12:52:48.093Z"
   },
   {
    "duration": 9,
    "start_time": "2023-05-30T12:52:54.804Z"
   },
   {
    "duration": 41,
    "start_time": "2023-05-30T12:52:55.464Z"
   },
   {
    "duration": 7,
    "start_time": "2023-05-30T12:53:01.097Z"
   },
   {
    "duration": 22,
    "start_time": "2023-05-30T12:53:01.854Z"
   },
   {
    "duration": 23,
    "start_time": "2023-05-30T12:53:49.756Z"
   },
   {
    "duration": 9,
    "start_time": "2023-05-30T12:53:53.559Z"
   },
   {
    "duration": 21,
    "start_time": "2023-05-30T12:53:54.186Z"
   },
   {
    "duration": 19,
    "start_time": "2023-05-30T12:54:00.881Z"
   },
   {
    "duration": 8,
    "start_time": "2023-05-30T12:54:02.276Z"
   },
   {
    "duration": 19,
    "start_time": "2023-05-30T12:54:14.918Z"
   },
   {
    "duration": 8,
    "start_time": "2023-05-30T12:54:15.762Z"
   },
   {
    "duration": 9,
    "start_time": "2023-05-30T12:56:46.717Z"
   },
   {
    "duration": 75,
    "start_time": "2023-05-30T12:57:02.858Z"
   },
   {
    "duration": 40,
    "start_time": "2023-05-30T12:58:09.425Z"
   },
   {
    "duration": 28,
    "start_time": "2023-05-30T12:58:16.056Z"
   },
   {
    "duration": 13,
    "start_time": "2023-05-30T13:03:58.665Z"
   },
   {
    "duration": 17,
    "start_time": "2023-05-30T13:04:38.700Z"
   },
   {
    "duration": 15,
    "start_time": "2023-05-30T13:04:56.376Z"
   },
   {
    "duration": 14,
    "start_time": "2023-05-30T13:06:34.722Z"
   },
   {
    "duration": 25,
    "start_time": "2023-05-30T13:06:35.738Z"
   },
   {
    "duration": 16,
    "start_time": "2023-05-30T13:06:56.198Z"
   },
   {
    "duration": 13,
    "start_time": "2023-05-30T13:07:00.060Z"
   },
   {
    "duration": 14,
    "start_time": "2023-05-30T13:07:06.675Z"
   },
   {
    "duration": 1234,
    "start_time": "2023-05-30T13:08:55.489Z"
   },
   {
    "duration": 182,
    "start_time": "2023-05-30T13:08:56.725Z"
   },
   {
    "duration": 16,
    "start_time": "2023-05-30T13:08:56.910Z"
   },
   {
    "duration": 51,
    "start_time": "2023-05-30T13:08:56.927Z"
   },
   {
    "duration": 4,
    "start_time": "2023-05-30T13:08:56.980Z"
   },
   {
    "duration": 13,
    "start_time": "2023-05-30T13:08:56.985Z"
   },
   {
    "duration": 28,
    "start_time": "2023-05-30T13:08:57.000Z"
   },
   {
    "duration": 91,
    "start_time": "2023-05-30T13:08:57.029Z"
   },
   {
    "duration": 129,
    "start_time": "2023-05-30T13:08:57.122Z"
   },
   {
    "duration": 148,
    "start_time": "2023-05-30T13:08:57.258Z"
   },
   {
    "duration": 52,
    "start_time": "2023-05-30T13:08:57.408Z"
   },
   {
    "duration": 36,
    "start_time": "2023-05-30T13:08:57.462Z"
   },
   {
    "duration": 30,
    "start_time": "2023-05-30T13:08:57.500Z"
   },
   {
    "duration": 405,
    "start_time": "2023-05-30T13:08:57.532Z"
   },
   {
    "duration": 52,
    "start_time": "2023-05-30T13:08:57.941Z"
   },
   {
    "duration": 26,
    "start_time": "2023-05-30T13:08:57.995Z"
   },
   {
    "duration": 79,
    "start_time": "2023-05-30T13:08:58.023Z"
   },
   {
    "duration": 46,
    "start_time": "2023-05-30T13:08:58.104Z"
   },
   {
    "duration": 532,
    "start_time": "2023-05-30T13:08:58.152Z"
   },
   {
    "duration": 5,
    "start_time": "2023-05-30T13:08:58.686Z"
   },
   {
    "duration": 159,
    "start_time": "2023-05-30T13:08:58.693Z"
   },
   {
    "duration": 110,
    "start_time": "2023-05-30T13:08:58.853Z"
   },
   {
    "duration": 105,
    "start_time": "2023-05-30T13:08:58.964Z"
   },
   {
    "duration": 6,
    "start_time": "2023-05-30T13:08:59.070Z"
   },
   {
    "duration": 29,
    "start_time": "2023-05-30T13:08:59.078Z"
   },
   {
    "duration": 17,
    "start_time": "2023-05-30T13:08:59.109Z"
   },
   {
    "duration": 33,
    "start_time": "2023-05-30T13:08:59.128Z"
   },
   {
    "duration": 31,
    "start_time": "2023-05-30T13:08:59.163Z"
   },
   {
    "duration": 14,
    "start_time": "2023-05-30T13:11:00.795Z"
   },
   {
    "duration": 15,
    "start_time": "2023-05-30T13:11:06.418Z"
   },
   {
    "duration": 8,
    "start_time": "2023-05-30T13:14:31.869Z"
   },
   {
    "duration": 24,
    "start_time": "2023-05-30T13:17:35.046Z"
   },
   {
    "duration": 19,
    "start_time": "2023-05-30T13:17:45.565Z"
   },
   {
    "duration": 27,
    "start_time": "2023-05-30T13:17:56.046Z"
   },
   {
    "duration": 22,
    "start_time": "2023-05-30T13:18:03.774Z"
   },
   {
    "duration": 17,
    "start_time": "2023-05-30T13:18:06.264Z"
   },
   {
    "duration": 23,
    "start_time": "2023-05-30T13:18:16.799Z"
   },
   {
    "duration": 38,
    "start_time": "2023-05-30T13:18:57.952Z"
   },
   {
    "duration": 26,
    "start_time": "2023-05-30T13:19:05.639Z"
   },
   {
    "duration": 15,
    "start_time": "2023-05-30T13:19:12.176Z"
   },
   {
    "duration": 21,
    "start_time": "2023-05-30T13:19:20.012Z"
   },
   {
    "duration": 7,
    "start_time": "2023-05-30T13:27:03.097Z"
   },
   {
    "duration": 10,
    "start_time": "2023-05-30T13:27:08.778Z"
   },
   {
    "duration": 182,
    "start_time": "2023-05-30T13:27:22.421Z"
   },
   {
    "duration": 10,
    "start_time": "2023-05-30T13:27:29.116Z"
   },
   {
    "duration": 15,
    "start_time": "2023-05-30T13:28:02.585Z"
   },
   {
    "duration": 2867,
    "start_time": "2023-05-30T13:28:24.398Z"
   },
   {
    "duration": 8,
    "start_time": "2023-05-30T13:28:36.386Z"
   },
   {
    "duration": 9,
    "start_time": "2023-05-30T13:28:50.940Z"
   },
   {
    "duration": 28,
    "start_time": "2023-05-30T13:30:13.180Z"
   },
   {
    "duration": 18,
    "start_time": "2023-05-30T13:30:42.720Z"
   },
   {
    "duration": 16,
    "start_time": "2023-05-30T13:32:17.779Z"
   },
   {
    "duration": 1911,
    "start_time": "2023-05-30T13:32:37.771Z"
   },
   {
    "duration": 15,
    "start_time": "2023-05-30T13:32:48.073Z"
   },
   {
    "duration": 1665,
    "start_time": "2023-05-30T13:32:50.828Z"
   },
   {
    "duration": 108,
    "start_time": "2023-05-30T13:33:55.265Z"
   },
   {
    "duration": 1298,
    "start_time": "2023-05-30T13:34:01.120Z"
   },
   {
    "duration": 173,
    "start_time": "2023-05-30T13:34:02.420Z"
   },
   {
    "duration": 13,
    "start_time": "2023-05-30T13:34:02.595Z"
   },
   {
    "duration": 45,
    "start_time": "2023-05-30T13:34:02.610Z"
   },
   {
    "duration": 4,
    "start_time": "2023-05-30T13:34:02.658Z"
   },
   {
    "duration": 37,
    "start_time": "2023-05-30T13:34:02.663Z"
   },
   {
    "duration": 57,
    "start_time": "2023-05-30T13:34:02.702Z"
   },
   {
    "duration": 79,
    "start_time": "2023-05-30T13:34:02.762Z"
   },
   {
    "duration": 86,
    "start_time": "2023-05-30T13:34:02.842Z"
   },
   {
    "duration": 157,
    "start_time": "2023-05-30T13:34:02.930Z"
   },
   {
    "duration": 29,
    "start_time": "2023-05-30T13:34:03.089Z"
   },
   {
    "duration": 65,
    "start_time": "2023-05-30T13:34:03.120Z"
   },
   {
    "duration": 24,
    "start_time": "2023-05-30T13:34:03.187Z"
   },
   {
    "duration": 408,
    "start_time": "2023-05-30T13:34:03.215Z"
   },
   {
    "duration": 55,
    "start_time": "2023-05-30T13:34:03.625Z"
   },
   {
    "duration": 47,
    "start_time": "2023-05-30T13:34:03.682Z"
   },
   {
    "duration": 87,
    "start_time": "2023-05-30T13:34:03.731Z"
   },
   {
    "duration": 36,
    "start_time": "2023-05-30T13:34:03.821Z"
   },
   {
    "duration": 511,
    "start_time": "2023-05-30T13:34:03.859Z"
   },
   {
    "duration": 4,
    "start_time": "2023-05-30T13:34:04.372Z"
   },
   {
    "duration": 110,
    "start_time": "2023-05-30T13:34:04.378Z"
   },
   {
    "duration": 73,
    "start_time": "2023-05-30T13:34:04.541Z"
   },
   {
    "duration": 147,
    "start_time": "2023-05-30T13:34:04.616Z"
   },
   {
    "duration": 7,
    "start_time": "2023-05-30T13:34:04.765Z"
   },
   {
    "duration": 32,
    "start_time": "2023-05-30T13:34:04.773Z"
   },
   {
    "duration": 48,
    "start_time": "2023-05-30T13:34:04.807Z"
   },
   {
    "duration": 24,
    "start_time": "2023-05-30T13:34:04.860Z"
   },
   {
    "duration": 18,
    "start_time": "2023-05-30T13:34:04.886Z"
   },
   {
    "duration": 23,
    "start_time": "2023-05-30T13:34:04.906Z"
   },
   {
    "duration": 26,
    "start_time": "2023-05-30T13:34:04.931Z"
   },
   {
    "duration": 17,
    "start_time": "2023-05-30T13:34:04.959Z"
   },
   {
    "duration": 18,
    "start_time": "2023-05-30T13:34:04.978Z"
   },
   {
    "duration": 15,
    "start_time": "2023-05-30T13:34:04.998Z"
   },
   {
    "duration": 30,
    "start_time": "2023-05-30T13:34:05.015Z"
   },
   {
    "duration": 14,
    "start_time": "2023-05-30T13:34:05.048Z"
   },
   {
    "duration": 16,
    "start_time": "2023-05-30T13:34:05.064Z"
   },
   {
    "duration": 1800,
    "start_time": "2023-05-30T13:34:05.082Z"
   },
   {
    "duration": 0,
    "start_time": "2023-05-30T13:34:06.883Z"
   },
   {
    "duration": 0,
    "start_time": "2023-05-30T13:34:06.884Z"
   },
   {
    "duration": 0,
    "start_time": "2023-05-30T13:34:06.886Z"
   },
   {
    "duration": 1779,
    "start_time": "2023-05-30T13:35:27.027Z"
   },
   {
    "duration": 1456,
    "start_time": "2023-05-30T13:35:37.957Z"
   },
   {
    "duration": 16,
    "start_time": "2023-05-30T13:35:59.057Z"
   },
   {
    "duration": 93,
    "start_time": "2023-05-30T13:36:27.685Z"
   },
   {
    "duration": 41,
    "start_time": "2023-05-30T13:36:38.714Z"
   },
   {
    "duration": 130,
    "start_time": "2023-05-30T13:37:04.124Z"
   },
   {
    "duration": 1243,
    "start_time": "2023-05-30T13:37:20.879Z"
   },
   {
    "duration": 186,
    "start_time": "2023-05-30T13:37:22.124Z"
   },
   {
    "duration": 13,
    "start_time": "2023-05-30T13:37:22.312Z"
   },
   {
    "duration": 38,
    "start_time": "2023-05-30T13:37:22.327Z"
   },
   {
    "duration": 8,
    "start_time": "2023-05-30T13:37:22.366Z"
   },
   {
    "duration": 21,
    "start_time": "2023-05-30T13:37:22.376Z"
   },
   {
    "duration": 41,
    "start_time": "2023-05-30T13:37:22.398Z"
   },
   {
    "duration": 85,
    "start_time": "2023-05-30T13:37:22.443Z"
   },
   {
    "duration": 86,
    "start_time": "2023-05-30T13:37:22.530Z"
   },
   {
    "duration": 156,
    "start_time": "2023-05-30T13:37:22.619Z"
   },
   {
    "duration": 27,
    "start_time": "2023-05-30T13:37:22.776Z"
   },
   {
    "duration": 59,
    "start_time": "2023-05-30T13:37:22.804Z"
   },
   {
    "duration": 23,
    "start_time": "2023-05-30T13:37:22.865Z"
   },
   {
    "duration": 400,
    "start_time": "2023-05-30T13:37:22.890Z"
   },
   {
    "duration": 67,
    "start_time": "2023-05-30T13:37:23.292Z"
   },
   {
    "duration": 30,
    "start_time": "2023-05-30T13:37:23.361Z"
   },
   {
    "duration": 81,
    "start_time": "2023-05-30T13:37:23.393Z"
   },
   {
    "duration": 14,
    "start_time": "2023-05-30T13:37:23.475Z"
   },
   {
    "duration": 473,
    "start_time": "2023-05-30T13:37:23.491Z"
   },
   {
    "duration": 5,
    "start_time": "2023-05-30T13:37:23.965Z"
   },
   {
    "duration": 120,
    "start_time": "2023-05-30T13:37:23.972Z"
   },
   {
    "duration": 112,
    "start_time": "2023-05-30T13:37:24.094Z"
   },
   {
    "duration": 112,
    "start_time": "2023-05-30T13:37:24.207Z"
   },
   {
    "duration": 5,
    "start_time": "2023-05-30T13:37:24.321Z"
   },
   {
    "duration": 28,
    "start_time": "2023-05-30T13:37:24.327Z"
   },
   {
    "duration": 20,
    "start_time": "2023-05-30T13:37:24.358Z"
   },
   {
    "duration": 19,
    "start_time": "2023-05-30T13:37:24.380Z"
   },
   {
    "duration": 63,
    "start_time": "2023-05-30T13:37:24.402Z"
   },
   {
    "duration": 30,
    "start_time": "2023-05-30T13:37:24.467Z"
   },
   {
    "duration": 15,
    "start_time": "2023-05-30T13:37:24.499Z"
   },
   {
    "duration": 74,
    "start_time": "2023-05-30T13:37:24.516Z"
   },
   {
    "duration": 20,
    "start_time": "2023-05-30T13:37:24.592Z"
   },
   {
    "duration": 75,
    "start_time": "2023-05-30T13:37:24.614Z"
   },
   {
    "duration": 44,
    "start_time": "2023-05-30T13:37:24.691Z"
   },
   {
    "duration": 43,
    "start_time": "2023-05-30T13:37:24.738Z"
   },
   {
    "duration": 22,
    "start_time": "2023-05-30T13:37:24.783Z"
   },
   {
    "duration": 92,
    "start_time": "2023-05-30T13:37:24.807Z"
   },
   {
    "duration": 101,
    "start_time": "2023-05-30T13:38:11.196Z"
   },
   {
    "duration": 27,
    "start_time": "2023-05-30T13:38:22.721Z"
   },
   {
    "duration": 7,
    "start_time": "2023-05-30T13:38:56.264Z"
   },
   {
    "duration": 5,
    "start_time": "2023-05-30T13:39:44.465Z"
   },
   {
    "duration": 14,
    "start_time": "2023-05-30T13:39:46.268Z"
   },
   {
    "duration": 13,
    "start_time": "2023-05-30T13:39:56.995Z"
   },
   {
    "duration": 16,
    "start_time": "2023-05-30T13:40:14.980Z"
   },
   {
    "duration": 13,
    "start_time": "2023-05-30T13:40:33.103Z"
   },
   {
    "duration": 12,
    "start_time": "2023-05-30T13:40:42.661Z"
   },
   {
    "duration": 14,
    "start_time": "2023-05-30T13:40:53.383Z"
   },
   {
    "duration": 13,
    "start_time": "2023-05-30T13:40:57.791Z"
   },
   {
    "duration": 1246,
    "start_time": "2023-05-30T13:41:53.072Z"
   },
   {
    "duration": 168,
    "start_time": "2023-05-30T13:41:54.320Z"
   },
   {
    "duration": 13,
    "start_time": "2023-05-30T13:41:54.489Z"
   },
   {
    "duration": 21,
    "start_time": "2023-05-30T13:41:54.503Z"
   },
   {
    "duration": 3,
    "start_time": "2023-05-30T13:41:54.526Z"
   },
   {
    "duration": 8,
    "start_time": "2023-05-30T13:41:54.541Z"
   },
   {
    "duration": 34,
    "start_time": "2023-05-30T13:41:54.550Z"
   },
   {
    "duration": 74,
    "start_time": "2023-05-30T13:41:54.585Z"
   },
   {
    "duration": 96,
    "start_time": "2023-05-30T13:41:54.661Z"
   },
   {
    "duration": 135,
    "start_time": "2023-05-30T13:41:54.759Z"
   },
   {
    "duration": 26,
    "start_time": "2023-05-30T13:41:54.895Z"
   },
   {
    "duration": 58,
    "start_time": "2023-05-30T13:41:54.923Z"
   },
   {
    "duration": 24,
    "start_time": "2023-05-30T13:41:54.983Z"
   },
   {
    "duration": 394,
    "start_time": "2023-05-30T13:41:55.010Z"
   },
   {
    "duration": 58,
    "start_time": "2023-05-30T13:41:55.405Z"
   },
   {
    "duration": 29,
    "start_time": "2023-05-30T13:41:55.465Z"
   },
   {
    "duration": 115,
    "start_time": "2023-05-30T13:41:55.496Z"
   },
   {
    "duration": 19,
    "start_time": "2023-05-30T13:41:55.613Z"
   },
   {
    "duration": 456,
    "start_time": "2023-05-30T13:41:55.642Z"
   },
   {
    "duration": 5,
    "start_time": "2023-05-30T13:41:56.099Z"
   },
   {
    "duration": 140,
    "start_time": "2023-05-30T13:41:56.106Z"
   },
   {
    "duration": 65,
    "start_time": "2023-05-30T13:41:56.257Z"
   },
   {
    "duration": 110,
    "start_time": "2023-05-30T13:41:56.323Z"
   },
   {
    "duration": 8,
    "start_time": "2023-05-30T13:41:56.434Z"
   },
   {
    "duration": 17,
    "start_time": "2023-05-30T13:41:56.445Z"
   },
   {
    "duration": 37,
    "start_time": "2023-05-30T13:41:56.466Z"
   },
   {
    "duration": 15,
    "start_time": "2023-05-30T13:41:56.505Z"
   },
   {
    "duration": 14,
    "start_time": "2023-05-30T13:41:56.522Z"
   },
   {
    "duration": 40,
    "start_time": "2023-05-30T13:41:56.537Z"
   },
   {
    "duration": 14,
    "start_time": "2023-05-30T13:41:56.579Z"
   },
   {
    "duration": 19,
    "start_time": "2023-05-30T13:41:56.594Z"
   },
   {
    "duration": 20,
    "start_time": "2023-05-30T13:41:56.614Z"
   },
   {
    "duration": 37,
    "start_time": "2023-05-30T13:41:56.635Z"
   },
   {
    "duration": 20,
    "start_time": "2023-05-30T13:41:56.674Z"
   },
   {
    "duration": 21,
    "start_time": "2023-05-30T13:41:56.696Z"
   },
   {
    "duration": 20,
    "start_time": "2023-05-30T13:41:56.719Z"
   },
   {
    "duration": 51,
    "start_time": "2023-05-30T13:41:56.742Z"
   },
   {
    "duration": 8,
    "start_time": "2023-05-30T13:41:56.795Z"
   },
   {
    "duration": 15,
    "start_time": "2023-05-30T13:41:56.804Z"
   },
   {
    "duration": 14,
    "start_time": "2023-05-30T13:41:56.820Z"
   },
   {
    "duration": 17,
    "start_time": "2023-05-30T13:41:56.837Z"
   },
   {
    "duration": 34,
    "start_time": "2023-05-30T13:41:56.855Z"
   },
   {
    "duration": 18,
    "start_time": "2023-05-30T13:50:30.882Z"
   },
   {
    "duration": 13,
    "start_time": "2023-05-30T13:50:54.721Z"
   },
   {
    "duration": 18,
    "start_time": "2023-05-30T13:51:27.898Z"
   },
   {
    "duration": 15,
    "start_time": "2023-05-30T13:51:37.921Z"
   },
   {
    "duration": 14,
    "start_time": "2023-05-30T13:51:45.968Z"
   },
   {
    "duration": 24,
    "start_time": "2023-05-30T13:51:54.161Z"
   },
   {
    "duration": 14,
    "start_time": "2023-05-30T13:52:23.121Z"
   },
   {
    "duration": 15,
    "start_time": "2023-05-30T13:52:36.642Z"
   },
   {
    "duration": 18,
    "start_time": "2023-05-30T13:52:45.272Z"
   },
   {
    "duration": 13,
    "start_time": "2023-05-30T13:52:53.669Z"
   },
   {
    "duration": 9,
    "start_time": "2023-05-30T13:57:22.480Z"
   },
   {
    "duration": 6,
    "start_time": "2023-05-30T13:57:31.479Z"
   },
   {
    "duration": 1660,
    "start_time": "2023-05-30T14:03:26.978Z"
   },
   {
    "duration": 205,
    "start_time": "2023-05-30T14:03:28.642Z"
   },
   {
    "duration": 16,
    "start_time": "2023-05-30T14:03:28.849Z"
   },
   {
    "duration": 124,
    "start_time": "2023-05-30T14:03:28.866Z"
   },
   {
    "duration": 8,
    "start_time": "2023-05-30T14:03:28.994Z"
   },
   {
    "duration": 143,
    "start_time": "2023-05-30T14:03:29.005Z"
   },
   {
    "duration": 75,
    "start_time": "2023-05-30T14:03:29.150Z"
   },
   {
    "duration": 110,
    "start_time": "2023-05-30T14:03:29.232Z"
   },
   {
    "duration": 106,
    "start_time": "2023-05-30T14:03:29.344Z"
   },
   {
    "duration": 161,
    "start_time": "2023-05-30T14:03:29.453Z"
   },
   {
    "duration": 43,
    "start_time": "2023-05-30T14:03:29.616Z"
   },
   {
    "duration": 67,
    "start_time": "2023-05-30T14:03:29.662Z"
   },
   {
    "duration": 36,
    "start_time": "2023-05-30T14:03:29.731Z"
   },
   {
    "duration": 522,
    "start_time": "2023-05-30T14:03:29.772Z"
   },
   {
    "duration": 81,
    "start_time": "2023-05-30T14:03:30.297Z"
   },
   {
    "duration": 91,
    "start_time": "2023-05-30T14:03:30.381Z"
   },
   {
    "duration": 175,
    "start_time": "2023-05-30T14:03:30.475Z"
   },
   {
    "duration": 47,
    "start_time": "2023-05-30T14:03:30.652Z"
   },
   {
    "duration": 584,
    "start_time": "2023-05-30T14:03:30.702Z"
   },
   {
    "duration": 6,
    "start_time": "2023-05-30T14:03:31.289Z"
   },
   {
    "duration": 195,
    "start_time": "2023-05-30T14:03:31.298Z"
   },
   {
    "duration": 113,
    "start_time": "2023-05-30T14:03:31.496Z"
   },
   {
    "duration": 161,
    "start_time": "2023-05-30T14:03:31.611Z"
   },
   {
    "duration": 8,
    "start_time": "2023-05-30T14:03:31.775Z"
   },
   {
    "duration": 47,
    "start_time": "2023-05-30T14:03:31.786Z"
   },
   {
    "duration": 33,
    "start_time": "2023-05-30T14:03:31.836Z"
   },
   {
    "duration": 29,
    "start_time": "2023-05-30T14:03:31.871Z"
   },
   {
    "duration": 45,
    "start_time": "2023-05-30T14:03:31.902Z"
   },
   {
    "duration": 63,
    "start_time": "2023-05-30T14:03:31.949Z"
   },
   {
    "duration": 29,
    "start_time": "2023-05-30T14:03:32.015Z"
   },
   {
    "duration": 57,
    "start_time": "2023-05-30T14:03:32.047Z"
   },
   {
    "duration": 52,
    "start_time": "2023-05-30T14:03:32.107Z"
   },
   {
    "duration": 32,
    "start_time": "2023-05-30T14:03:32.161Z"
   },
   {
    "duration": 33,
    "start_time": "2023-05-30T14:03:32.195Z"
   },
   {
    "duration": 41,
    "start_time": "2023-05-30T14:03:32.231Z"
   },
   {
    "duration": 35,
    "start_time": "2023-05-30T14:03:32.274Z"
   },
   {
    "duration": 65,
    "start_time": "2023-05-30T14:03:32.312Z"
   },
   {
    "duration": 8,
    "start_time": "2023-05-30T14:03:32.380Z"
   },
   {
    "duration": 33,
    "start_time": "2023-05-30T14:03:32.391Z"
   },
   {
    "duration": 78,
    "start_time": "2023-05-30T14:03:32.426Z"
   },
   {
    "duration": 86,
    "start_time": "2023-05-30T14:03:32.509Z"
   },
   {
    "duration": 65,
    "start_time": "2023-05-30T14:03:32.597Z"
   },
   {
    "duration": 1353,
    "start_time": "2023-05-30T14:16:19.367Z"
   },
   {
    "duration": 211,
    "start_time": "2023-05-30T14:16:20.724Z"
   },
   {
    "duration": 19,
    "start_time": "2023-05-30T14:16:20.937Z"
   },
   {
    "duration": 28,
    "start_time": "2023-05-30T14:16:20.959Z"
   },
   {
    "duration": 4,
    "start_time": "2023-05-30T14:16:20.989Z"
   },
   {
    "duration": 30,
    "start_time": "2023-05-30T14:16:20.996Z"
   },
   {
    "duration": 35,
    "start_time": "2023-05-30T14:16:21.043Z"
   },
   {
    "duration": 133,
    "start_time": "2023-05-30T14:16:21.080Z"
   },
   {
    "duration": 110,
    "start_time": "2023-05-30T14:16:21.215Z"
   },
   {
    "duration": 241,
    "start_time": "2023-05-30T14:16:21.328Z"
   },
   {
    "duration": 34,
    "start_time": "2023-05-30T14:16:21.572Z"
   },
   {
    "duration": 60,
    "start_time": "2023-05-30T14:16:21.609Z"
   },
   {
    "duration": 33,
    "start_time": "2023-05-30T14:16:21.671Z"
   },
   {
    "duration": 457,
    "start_time": "2023-05-30T14:16:21.709Z"
   },
   {
    "duration": 74,
    "start_time": "2023-05-30T14:16:22.168Z"
   },
   {
    "duration": 33,
    "start_time": "2023-05-30T14:16:22.245Z"
   },
   {
    "duration": 152,
    "start_time": "2023-05-30T14:16:22.281Z"
   },
   {
    "duration": 18,
    "start_time": "2023-05-30T14:16:22.435Z"
   },
   {
    "duration": 663,
    "start_time": "2023-05-30T14:16:22.455Z"
   },
   {
    "duration": 7,
    "start_time": "2023-05-30T14:16:23.141Z"
   },
   {
    "duration": 149,
    "start_time": "2023-05-30T14:16:23.151Z"
   },
   {
    "duration": 106,
    "start_time": "2023-05-30T14:16:23.343Z"
   },
   {
    "duration": 168,
    "start_time": "2023-05-30T14:16:23.452Z"
   },
   {
    "duration": 21,
    "start_time": "2023-05-30T14:16:23.623Z"
   },
   {
    "duration": 40,
    "start_time": "2023-05-30T14:16:23.647Z"
   },
   {
    "duration": 22,
    "start_time": "2023-05-30T14:16:23.689Z"
   },
   {
    "duration": 33,
    "start_time": "2023-05-30T14:16:23.713Z"
   },
   {
    "duration": 24,
    "start_time": "2023-05-30T14:16:23.749Z"
   },
   {
    "duration": 40,
    "start_time": "2023-05-30T14:16:23.775Z"
   },
   {
    "duration": 27,
    "start_time": "2023-05-30T14:16:23.818Z"
   },
   {
    "duration": 29,
    "start_time": "2023-05-30T14:16:23.847Z"
   },
   {
    "duration": 22,
    "start_time": "2023-05-30T14:16:23.878Z"
   },
   {
    "duration": 41,
    "start_time": "2023-05-30T14:16:23.903Z"
   },
   {
    "duration": 35,
    "start_time": "2023-05-30T14:16:23.946Z"
   },
   {
    "duration": 25,
    "start_time": "2023-05-30T14:16:23.983Z"
   },
   {
    "duration": 32,
    "start_time": "2023-05-30T14:16:24.011Z"
   },
   {
    "duration": 45,
    "start_time": "2023-05-30T14:16:24.047Z"
   },
   {
    "duration": 28,
    "start_time": "2023-05-30T14:16:24.096Z"
   },
   {
    "duration": 71,
    "start_time": "2023-05-30T14:16:24.127Z"
   },
   {
    "duration": 30,
    "start_time": "2023-05-30T14:16:24.200Z"
   },
   {
    "duration": 20,
    "start_time": "2023-05-30T14:16:24.236Z"
   },
   {
    "duration": 31,
    "start_time": "2023-05-30T14:16:24.258Z"
   },
   {
    "duration": 1415,
    "start_time": "2023-05-30T14:17:58.960Z"
   },
   {
    "duration": 186,
    "start_time": "2023-05-30T14:18:00.378Z"
   },
   {
    "duration": 21,
    "start_time": "2023-05-30T14:18:00.567Z"
   },
   {
    "duration": 59,
    "start_time": "2023-05-30T14:18:00.592Z"
   },
   {
    "duration": 4,
    "start_time": "2023-05-30T14:18:00.653Z"
   },
   {
    "duration": 56,
    "start_time": "2023-05-30T14:18:00.660Z"
   },
   {
    "duration": 71,
    "start_time": "2023-05-30T14:18:00.718Z"
   },
   {
    "duration": 172,
    "start_time": "2023-05-30T14:18:00.792Z"
   },
   {
    "duration": 117,
    "start_time": "2023-05-30T14:18:00.967Z"
   },
   {
    "duration": 174,
    "start_time": "2023-05-30T14:18:01.089Z"
   },
   {
    "duration": 33,
    "start_time": "2023-05-30T14:18:01.265Z"
   },
   {
    "duration": 73,
    "start_time": "2023-05-30T14:18:01.301Z"
   },
   {
    "duration": 51,
    "start_time": "2023-05-30T14:18:01.377Z"
   },
   {
    "duration": 545,
    "start_time": "2023-05-30T14:18:01.431Z"
   },
   {
    "duration": 74,
    "start_time": "2023-05-30T14:18:01.979Z"
   },
   {
    "duration": 34,
    "start_time": "2023-05-30T14:18:02.055Z"
   },
   {
    "duration": 95,
    "start_time": "2023-05-30T14:18:02.091Z"
   },
   {
    "duration": 23,
    "start_time": "2023-05-30T14:18:02.189Z"
   },
   {
    "duration": 584,
    "start_time": "2023-05-30T14:18:02.214Z"
   },
   {
    "duration": 5,
    "start_time": "2023-05-30T14:18:02.800Z"
   },
   {
    "duration": 178,
    "start_time": "2023-05-30T14:18:02.808Z"
   },
   {
    "duration": 101,
    "start_time": "2023-05-30T14:18:02.988Z"
   },
   {
    "duration": 113,
    "start_time": "2023-05-30T14:18:03.091Z"
   },
   {
    "duration": 7,
    "start_time": "2023-05-30T14:18:03.206Z"
   },
   {
    "duration": 65,
    "start_time": "2023-05-30T14:18:03.216Z"
   },
   {
    "duration": 34,
    "start_time": "2023-05-30T14:18:03.283Z"
   },
   {
    "duration": 50,
    "start_time": "2023-05-30T14:18:03.318Z"
   },
   {
    "duration": 18,
    "start_time": "2023-05-30T14:18:03.372Z"
   },
   {
    "duration": 41,
    "start_time": "2023-05-30T14:18:03.392Z"
   },
   {
    "duration": 60,
    "start_time": "2023-05-30T14:18:03.435Z"
   },
   {
    "duration": 38,
    "start_time": "2023-05-30T14:18:03.496Z"
   },
   {
    "duration": 53,
    "start_time": "2023-05-30T14:18:03.536Z"
   },
   {
    "duration": 32,
    "start_time": "2023-05-30T14:18:03.590Z"
   },
   {
    "duration": 41,
    "start_time": "2023-05-30T14:18:03.624Z"
   },
   {
    "duration": 31,
    "start_time": "2023-05-30T14:18:03.668Z"
   },
   {
    "duration": 32,
    "start_time": "2023-05-30T14:18:03.702Z"
   },
   {
    "duration": 65,
    "start_time": "2023-05-30T14:18:03.737Z"
   },
   {
    "duration": 20,
    "start_time": "2023-05-30T14:18:03.804Z"
   },
   {
    "duration": 26,
    "start_time": "2023-05-30T14:18:03.826Z"
   },
   {
    "duration": 23,
    "start_time": "2023-05-30T14:18:03.858Z"
   },
   {
    "duration": 24,
    "start_time": "2023-05-30T14:18:03.883Z"
   },
   {
    "duration": 20,
    "start_time": "2023-05-30T14:18:03.910Z"
   },
   {
    "duration": 1262,
    "start_time": "2023-05-30T14:45:03.357Z"
   },
   {
    "duration": 1040,
    "start_time": "2023-05-30T14:45:04.621Z"
   },
   {
    "duration": 15,
    "start_time": "2023-05-30T14:45:05.664Z"
   },
   {
    "duration": 66,
    "start_time": "2023-05-30T14:45:05.681Z"
   },
   {
    "duration": 27,
    "start_time": "2023-05-30T14:45:05.750Z"
   },
   {
    "duration": 55,
    "start_time": "2023-05-30T14:45:05.780Z"
   },
   {
    "duration": 102,
    "start_time": "2023-05-30T14:45:05.837Z"
   },
   {
    "duration": 124,
    "start_time": "2023-05-30T14:45:05.941Z"
   },
   {
    "duration": 78,
    "start_time": "2023-05-30T14:45:06.066Z"
   },
   {
    "duration": 152,
    "start_time": "2023-05-30T14:45:06.157Z"
   },
   {
    "duration": 30,
    "start_time": "2023-05-30T14:45:06.310Z"
   },
   {
    "duration": 83,
    "start_time": "2023-05-30T14:45:06.341Z"
   },
   {
    "duration": 23,
    "start_time": "2023-05-30T14:45:06.425Z"
   },
   {
    "duration": 372,
    "start_time": "2023-05-30T14:45:06.451Z"
   },
   {
    "duration": 56,
    "start_time": "2023-05-30T14:45:06.825Z"
   },
   {
    "duration": 27,
    "start_time": "2023-05-30T14:45:06.882Z"
   },
   {
    "duration": 81,
    "start_time": "2023-05-30T14:45:06.912Z"
   },
   {
    "duration": 15,
    "start_time": "2023-05-30T14:45:06.995Z"
   },
   {
    "duration": 621,
    "start_time": "2023-05-30T14:45:07.011Z"
   },
   {
    "duration": 5,
    "start_time": "2023-05-30T14:45:07.635Z"
   },
   {
    "duration": 138,
    "start_time": "2023-05-30T14:45:07.642Z"
   },
   {
    "duration": 86,
    "start_time": "2023-05-30T14:45:07.782Z"
   },
   {
    "duration": 100,
    "start_time": "2023-05-30T14:45:07.871Z"
   },
   {
    "duration": 6,
    "start_time": "2023-05-30T14:45:07.973Z"
   },
   {
    "duration": 22,
    "start_time": "2023-05-30T14:45:07.981Z"
   },
   {
    "duration": 18,
    "start_time": "2023-05-30T14:45:08.005Z"
   },
   {
    "duration": 41,
    "start_time": "2023-05-30T14:45:08.025Z"
   },
   {
    "duration": 28,
    "start_time": "2023-05-30T14:45:08.068Z"
   },
   {
    "duration": 25,
    "start_time": "2023-05-30T14:45:08.098Z"
   },
   {
    "duration": 21,
    "start_time": "2023-05-30T14:45:08.125Z"
   },
   {
    "duration": 18,
    "start_time": "2023-05-30T14:45:08.148Z"
   },
   {
    "duration": 22,
    "start_time": "2023-05-30T14:45:08.168Z"
   },
   {
    "duration": 13,
    "start_time": "2023-05-30T14:45:08.193Z"
   },
   {
    "duration": 18,
    "start_time": "2023-05-30T14:45:08.208Z"
   },
   {
    "duration": 30,
    "start_time": "2023-05-30T14:45:08.229Z"
   },
   {
    "duration": 19,
    "start_time": "2023-05-30T14:45:08.261Z"
   },
   {
    "duration": 30,
    "start_time": "2023-05-30T14:45:08.282Z"
   },
   {
    "duration": 12,
    "start_time": "2023-05-30T14:45:08.314Z"
   },
   {
    "duration": 31,
    "start_time": "2023-05-30T14:45:08.328Z"
   },
   {
    "duration": 13,
    "start_time": "2023-05-30T14:45:08.361Z"
   },
   {
    "duration": 13,
    "start_time": "2023-05-30T14:45:08.378Z"
   },
   {
    "duration": 24,
    "start_time": "2023-05-30T14:45:08.393Z"
   },
   {
    "duration": 23,
    "start_time": "2023-05-30T23:53:12.273Z"
   },
   {
    "duration": 52,
    "start_time": "2023-05-30T23:55:10.944Z"
   },
   {
    "duration": 1194,
    "start_time": "2023-05-30T23:55:16.136Z"
   },
   {
    "duration": 148,
    "start_time": "2023-05-30T23:55:17.332Z"
   },
   {
    "duration": 11,
    "start_time": "2023-05-30T23:55:17.482Z"
   },
   {
    "duration": 25,
    "start_time": "2023-05-30T23:55:17.494Z"
   },
   {
    "duration": 3,
    "start_time": "2023-05-30T23:55:17.520Z"
   },
   {
    "duration": 28,
    "start_time": "2023-05-30T23:55:17.524Z"
   },
   {
    "duration": 115,
    "start_time": "2023-05-30T23:55:17.553Z"
   },
   {
    "duration": 61,
    "start_time": "2023-05-30T23:55:17.670Z"
   },
   {
    "duration": 77,
    "start_time": "2023-05-30T23:55:17.733Z"
   },
   {
    "duration": 129,
    "start_time": "2023-05-30T23:55:17.813Z"
   },
   {
    "duration": 24,
    "start_time": "2023-05-30T23:55:17.944Z"
   },
   {
    "duration": 33,
    "start_time": "2023-05-30T23:55:17.970Z"
   },
   {
    "duration": 41,
    "start_time": "2023-05-30T23:55:18.004Z"
   },
   {
    "duration": 21,
    "start_time": "2023-05-30T23:55:18.047Z"
   },
   {
    "duration": 406,
    "start_time": "2023-05-30T23:55:18.069Z"
   },
   {
    "duration": 44,
    "start_time": "2023-05-30T23:55:18.477Z"
   },
   {
    "duration": 40,
    "start_time": "2023-05-30T23:55:18.523Z"
   },
   {
    "duration": 57,
    "start_time": "2023-05-30T23:55:18.565Z"
   },
   {
    "duration": 27,
    "start_time": "2023-05-30T23:55:18.624Z"
   },
   {
    "duration": 401,
    "start_time": "2023-05-30T23:55:18.653Z"
   },
   {
    "duration": 4,
    "start_time": "2023-05-30T23:55:19.058Z"
   },
   {
    "duration": 116,
    "start_time": "2023-05-30T23:55:19.064Z"
   },
   {
    "duration": 99,
    "start_time": "2023-05-30T23:55:19.181Z"
   },
   {
    "duration": 88,
    "start_time": "2023-05-30T23:55:19.282Z"
   },
   {
    "duration": 5,
    "start_time": "2023-05-30T23:55:19.372Z"
   },
   {
    "duration": 30,
    "start_time": "2023-05-30T23:55:19.379Z"
   },
   {
    "duration": 23,
    "start_time": "2023-05-30T23:55:19.411Z"
   },
   {
    "duration": 20,
    "start_time": "2023-05-30T23:55:19.437Z"
   },
   {
    "duration": 21,
    "start_time": "2023-05-30T23:55:19.459Z"
   },
   {
    "duration": 20,
    "start_time": "2023-05-30T23:55:19.482Z"
   },
   {
    "duration": 43,
    "start_time": "2023-05-30T23:55:19.504Z"
   },
   {
    "duration": 13,
    "start_time": "2023-05-30T23:55:19.548Z"
   },
   {
    "duration": 14,
    "start_time": "2023-05-30T23:55:19.563Z"
   },
   {
    "duration": 14,
    "start_time": "2023-05-30T23:55:19.578Z"
   },
   {
    "duration": 16,
    "start_time": "2023-05-30T23:55:19.594Z"
   },
   {
    "duration": 13,
    "start_time": "2023-05-30T23:55:19.611Z"
   },
   {
    "duration": 12,
    "start_time": "2023-05-30T23:55:19.641Z"
   },
   {
    "duration": 24,
    "start_time": "2023-05-30T23:55:19.654Z"
   },
   {
    "duration": 7,
    "start_time": "2023-05-30T23:55:19.679Z"
   },
   {
    "duration": 15,
    "start_time": "2023-05-30T23:55:19.687Z"
   },
   {
    "duration": 13,
    "start_time": "2023-05-30T23:55:19.704Z"
   },
   {
    "duration": 12,
    "start_time": "2023-05-30T23:55:19.741Z"
   },
   {
    "duration": 16,
    "start_time": "2023-05-30T23:55:19.755Z"
   },
   {
    "duration": 24,
    "start_time": "2023-05-30T23:55:29.044Z"
   },
   {
    "duration": 0,
    "start_time": "2023-05-30T23:58:44.707Z"
   },
   {
    "duration": 32,
    "start_time": "2023-05-31T00:13:27.233Z"
   },
   {
    "duration": 29,
    "start_time": "2023-05-31T00:13:44.093Z"
   },
   {
    "duration": 28,
    "start_time": "2023-05-31T00:15:55.162Z"
   },
   {
    "duration": 121,
    "start_time": "2023-05-31T00:16:01.267Z"
   },
   {
    "duration": 153,
    "start_time": "2023-05-31T00:18:36.497Z"
   },
   {
    "duration": 20,
    "start_time": "2023-05-31T00:19:08.053Z"
   },
   {
    "duration": 26,
    "start_time": "2023-05-31T00:19:13.057Z"
   },
   {
    "duration": 131,
    "start_time": "2023-05-31T00:19:36.465Z"
   },
   {
    "duration": 82,
    "start_time": "2023-05-31T00:19:45.511Z"
   },
   {
    "duration": 81,
    "start_time": "2023-05-31T00:19:53.540Z"
   },
   {
    "duration": 23,
    "start_time": "2023-05-31T00:20:20.704Z"
   },
   {
    "duration": 87,
    "start_time": "2023-05-31T00:21:00.563Z"
   },
   {
    "duration": 83,
    "start_time": "2023-05-31T00:21:05.650Z"
   },
   {
    "duration": 94,
    "start_time": "2023-05-31T00:21:09.931Z"
   },
   {
    "duration": 107,
    "start_time": "2023-05-31T00:21:13.363Z"
   },
   {
    "duration": 80,
    "start_time": "2023-05-31T00:21:17.657Z"
   },
   {
    "duration": 105,
    "start_time": "2023-05-31T00:21:24.238Z"
   },
   {
    "duration": 123,
    "start_time": "2023-05-31T00:21:28.261Z"
   },
   {
    "duration": 90,
    "start_time": "2023-05-31T00:21:34.611Z"
   },
   {
    "duration": 21,
    "start_time": "2023-05-31T00:27:21.125Z"
   },
   {
    "duration": 32,
    "start_time": "2023-05-31T00:27:35.657Z"
   },
   {
    "duration": 30,
    "start_time": "2023-05-31T00:27:44.473Z"
   },
   {
    "duration": 10,
    "start_time": "2023-05-31T00:33:25.359Z"
   },
   {
    "duration": 7,
    "start_time": "2023-05-31T00:33:47.539Z"
   },
   {
    "duration": 5,
    "start_time": "2023-05-31T00:33:56.045Z"
   },
   {
    "duration": 12,
    "start_time": "2023-05-31T00:34:18.368Z"
   },
   {
    "duration": 1264,
    "start_time": "2023-05-31T00:36:36.164Z"
   },
   {
    "duration": 159,
    "start_time": "2023-05-31T00:36:37.430Z"
   },
   {
    "duration": 11,
    "start_time": "2023-05-31T00:36:37.591Z"
   },
   {
    "duration": 23,
    "start_time": "2023-05-31T00:36:37.604Z"
   },
   {
    "duration": 4,
    "start_time": "2023-05-31T00:36:37.642Z"
   },
   {
    "duration": 20,
    "start_time": "2023-05-31T00:36:37.648Z"
   },
   {
    "duration": 23,
    "start_time": "2023-05-31T00:36:37.669Z"
   },
   {
    "duration": 79,
    "start_time": "2023-05-31T00:36:37.694Z"
   },
   {
    "duration": 87,
    "start_time": "2023-05-31T00:36:37.775Z"
   },
   {
    "duration": 140,
    "start_time": "2023-05-31T00:36:37.864Z"
   },
   {
    "duration": 39,
    "start_time": "2023-05-31T00:36:38.006Z"
   },
   {
    "duration": 36,
    "start_time": "2023-05-31T00:36:38.046Z"
   },
   {
    "duration": 24,
    "start_time": "2023-05-31T00:36:38.085Z"
   },
   {
    "duration": 42,
    "start_time": "2023-05-31T00:36:38.113Z"
   },
   {
    "duration": 459,
    "start_time": "2023-05-31T00:36:38.157Z"
   },
   {
    "duration": 74,
    "start_time": "2023-05-31T00:36:38.619Z"
   },
   {
    "duration": 29,
    "start_time": "2023-05-31T00:36:38.695Z"
   },
   {
    "duration": 76,
    "start_time": "2023-05-31T00:36:38.726Z"
   },
   {
    "duration": 14,
    "start_time": "2023-05-31T00:36:38.804Z"
   },
   {
    "duration": 412,
    "start_time": "2023-05-31T00:36:38.842Z"
   },
   {
    "duration": 5,
    "start_time": "2023-05-31T00:36:39.258Z"
   },
   {
    "duration": 120,
    "start_time": "2023-05-31T00:36:39.265Z"
   },
   {
    "duration": 99,
    "start_time": "2023-05-31T00:36:39.386Z"
   },
   {
    "duration": 102,
    "start_time": "2023-05-31T00:36:39.487Z"
   },
   {
    "duration": 6,
    "start_time": "2023-05-31T00:36:39.591Z"
   },
   {
    "duration": 20,
    "start_time": "2023-05-31T00:36:39.598Z"
   },
   {
    "duration": 23,
    "start_time": "2023-05-31T00:36:39.620Z"
   },
   {
    "duration": 19,
    "start_time": "2023-05-31T00:36:39.645Z"
   },
   {
    "duration": 15,
    "start_time": "2023-05-31T00:36:39.666Z"
   },
   {
    "duration": 16,
    "start_time": "2023-05-31T00:36:39.683Z"
   },
   {
    "duration": 16,
    "start_time": "2023-05-31T00:36:39.700Z"
   },
   {
    "duration": 33,
    "start_time": "2023-05-31T00:36:39.718Z"
   },
   {
    "duration": 13,
    "start_time": "2023-05-31T00:36:39.753Z"
   },
   {
    "duration": 12,
    "start_time": "2023-05-31T00:36:39.769Z"
   },
   {
    "duration": 17,
    "start_time": "2023-05-31T00:36:39.782Z"
   },
   {
    "duration": 12,
    "start_time": "2023-05-31T00:36:39.801Z"
   },
   {
    "duration": 34,
    "start_time": "2023-05-31T00:36:39.815Z"
   },
   {
    "duration": 28,
    "start_time": "2023-05-31T00:36:39.851Z"
   },
   {
    "duration": 7,
    "start_time": "2023-05-31T00:36:39.881Z"
   },
   {
    "duration": 16,
    "start_time": "2023-05-31T00:36:39.889Z"
   },
   {
    "duration": 13,
    "start_time": "2023-05-31T00:36:39.908Z"
   },
   {
    "duration": 12,
    "start_time": "2023-05-31T00:36:39.943Z"
   },
   {
    "duration": 12,
    "start_time": "2023-05-31T00:36:39.957Z"
   },
   {
    "duration": 147,
    "start_time": "2023-05-31T00:37:30.382Z"
   },
   {
    "duration": 178,
    "start_time": "2023-05-31T00:37:44.564Z"
   },
   {
    "duration": 42,
    "start_time": "2023-05-31T00:37:48.844Z"
   },
   {
    "duration": 49,
    "start_time": "2023-05-31T00:42:04.995Z"
   },
   {
    "duration": 58,
    "start_time": "2023-05-31T00:42:30.087Z"
   },
   {
    "duration": 49,
    "start_time": "2023-05-31T00:42:36.970Z"
   },
   {
    "duration": 84,
    "start_time": "2023-05-31T00:43:28.612Z"
   },
   {
    "duration": 93,
    "start_time": "2023-05-31T00:43:55.218Z"
   },
   {
    "duration": 44,
    "start_time": "2023-05-31T00:44:04.393Z"
   },
   {
    "duration": 80,
    "start_time": "2023-05-31T00:44:14.410Z"
   },
   {
    "duration": 49,
    "start_time": "2023-05-31T00:44:24.164Z"
   },
   {
    "duration": 56,
    "start_time": "2023-05-31T00:44:29.618Z"
   },
   {
    "duration": 44,
    "start_time": "2023-05-31T00:44:35.109Z"
   },
   {
    "duration": 69,
    "start_time": "2023-05-31T00:46:11.807Z"
   },
   {
    "duration": 14,
    "start_time": "2023-05-31T00:47:47.842Z"
   },
   {
    "duration": 45,
    "start_time": "2023-05-31T00:47:52.763Z"
   },
   {
    "duration": 42,
    "start_time": "2023-05-31T00:51:19.704Z"
   },
   {
    "duration": 1250,
    "start_time": "2023-05-31T00:56:36.124Z"
   },
   {
    "duration": 159,
    "start_time": "2023-05-31T00:56:37.376Z"
   },
   {
    "duration": 12,
    "start_time": "2023-05-31T00:56:37.537Z"
   },
   {
    "duration": 23,
    "start_time": "2023-05-31T00:56:37.553Z"
   },
   {
    "duration": 3,
    "start_time": "2023-05-31T00:56:37.578Z"
   },
   {
    "duration": 17,
    "start_time": "2023-05-31T00:56:37.582Z"
   },
   {
    "duration": 21,
    "start_time": "2023-05-31T00:56:37.601Z"
   },
   {
    "duration": 66,
    "start_time": "2023-05-31T00:56:37.641Z"
   },
   {
    "duration": 88,
    "start_time": "2023-05-31T00:56:37.709Z"
   },
   {
    "duration": 149,
    "start_time": "2023-05-31T00:56:37.800Z"
   },
   {
    "duration": 30,
    "start_time": "2023-05-31T00:56:37.951Z"
   },
   {
    "duration": 64,
    "start_time": "2023-05-31T00:56:37.983Z"
   },
   {
    "duration": 31,
    "start_time": "2023-05-31T00:56:38.049Z"
   },
   {
    "duration": 12,
    "start_time": "2023-05-31T00:56:38.082Z"
   },
   {
    "duration": 462,
    "start_time": "2023-05-31T00:56:38.096Z"
   },
   {
    "duration": 46,
    "start_time": "2023-05-31T00:56:38.560Z"
   },
   {
    "duration": 45,
    "start_time": "2023-05-31T00:56:38.608Z"
   },
   {
    "duration": 58,
    "start_time": "2023-05-31T00:56:38.655Z"
   },
   {
    "duration": 31,
    "start_time": "2023-05-31T00:56:38.715Z"
   },
   {
    "duration": 436,
    "start_time": "2023-05-31T00:56:38.748Z"
   },
   {
    "duration": 10,
    "start_time": "2023-05-31T00:56:39.188Z"
   },
   {
    "duration": 146,
    "start_time": "2023-05-31T00:56:39.200Z"
   },
   {
    "duration": 60,
    "start_time": "2023-05-31T00:56:39.348Z"
   },
   {
    "duration": 104,
    "start_time": "2023-05-31T00:56:39.410Z"
   },
   {
    "duration": 6,
    "start_time": "2023-05-31T00:56:39.516Z"
   },
   {
    "duration": 26,
    "start_time": "2023-05-31T00:56:39.524Z"
   },
   {
    "duration": 18,
    "start_time": "2023-05-31T00:56:39.552Z"
   },
   {
    "duration": 18,
    "start_time": "2023-05-31T00:56:39.573Z"
   },
   {
    "duration": 13,
    "start_time": "2023-05-31T00:56:39.593Z"
   },
   {
    "duration": 17,
    "start_time": "2023-05-31T00:56:39.607Z"
   },
   {
    "duration": 19,
    "start_time": "2023-05-31T00:56:39.626Z"
   },
   {
    "duration": 17,
    "start_time": "2023-05-31T00:56:39.646Z"
   },
   {
    "duration": 14,
    "start_time": "2023-05-31T00:56:39.665Z"
   },
   {
    "duration": 17,
    "start_time": "2023-05-31T00:56:39.681Z"
   },
   {
    "duration": 13,
    "start_time": "2023-05-31T00:56:39.700Z"
   },
   {
    "duration": 16,
    "start_time": "2023-05-31T00:56:39.715Z"
   },
   {
    "duration": 11,
    "start_time": "2023-05-31T00:56:39.742Z"
   },
   {
    "duration": 27,
    "start_time": "2023-05-31T00:56:39.755Z"
   },
   {
    "duration": 12,
    "start_time": "2023-05-31T00:56:39.783Z"
   },
   {
    "duration": 19,
    "start_time": "2023-05-31T00:56:39.796Z"
   },
   {
    "duration": 27,
    "start_time": "2023-05-31T00:56:39.817Z"
   },
   {
    "duration": 13,
    "start_time": "2023-05-31T00:56:39.845Z"
   },
   {
    "duration": 15,
    "start_time": "2023-05-31T00:56:39.859Z"
   },
   {
    "duration": 8,
    "start_time": "2023-05-31T02:54:36.933Z"
   },
   {
    "duration": 164,
    "start_time": "2023-05-31T02:54:49.450Z"
   },
   {
    "duration": 4,
    "start_time": "2023-05-31T02:58:02.646Z"
   },
   {
    "duration": 4,
    "start_time": "2023-05-31T02:58:12.749Z"
   },
   {
    "duration": 3,
    "start_time": "2023-05-31T02:58:18.856Z"
   },
   {
    "duration": 3,
    "start_time": "2023-05-31T02:58:25.139Z"
   },
   {
    "duration": 6,
    "start_time": "2023-05-31T03:00:36.832Z"
   },
   {
    "duration": 11,
    "start_time": "2023-05-31T03:00:43.133Z"
   },
   {
    "duration": 12,
    "start_time": "2023-05-31T03:00:49.152Z"
   },
   {
    "duration": 12,
    "start_time": "2023-05-31T03:00:52.602Z"
   },
   {
    "duration": 13,
    "start_time": "2023-05-31T03:00:53.600Z"
   },
   {
    "duration": 6,
    "start_time": "2023-05-31T03:01:12.454Z"
   },
   {
    "duration": 13,
    "start_time": "2023-05-31T03:01:20.450Z"
   },
   {
    "duration": 11,
    "start_time": "2023-05-31T03:01:28.712Z"
   },
   {
    "duration": 17,
    "start_time": "2023-05-31T03:01:30.309Z"
   },
   {
    "duration": 11,
    "start_time": "2023-05-31T03:01:30.970Z"
   },
   {
    "duration": 12,
    "start_time": "2023-05-31T03:01:53.161Z"
   },
   {
    "duration": 12,
    "start_time": "2023-05-31T03:01:58.839Z"
   },
   {
    "duration": 13,
    "start_time": "2023-05-31T03:02:01.882Z"
   },
   {
    "duration": 13,
    "start_time": "2023-05-31T03:02:03.865Z"
   },
   {
    "duration": 10,
    "start_time": "2023-05-31T03:02:56.343Z"
   },
   {
    "duration": 4,
    "start_time": "2023-05-31T03:03:07.512Z"
   },
   {
    "duration": 1241,
    "start_time": "2023-05-31T03:03:42.383Z"
   },
   {
    "duration": 155,
    "start_time": "2023-05-31T03:03:43.626Z"
   },
   {
    "duration": 12,
    "start_time": "2023-05-31T03:03:43.783Z"
   },
   {
    "duration": 21,
    "start_time": "2023-05-31T03:03:43.797Z"
   },
   {
    "duration": 3,
    "start_time": "2023-05-31T03:03:43.819Z"
   },
   {
    "duration": 8,
    "start_time": "2023-05-31T03:03:43.841Z"
   },
   {
    "duration": 22,
    "start_time": "2023-05-31T03:03:43.850Z"
   },
   {
    "duration": 81,
    "start_time": "2023-05-31T03:03:43.874Z"
   },
   {
    "duration": 76,
    "start_time": "2023-05-31T03:03:43.956Z"
   },
   {
    "duration": 151,
    "start_time": "2023-05-31T03:03:44.034Z"
   },
   {
    "duration": 25,
    "start_time": "2023-05-31T03:03:44.187Z"
   },
   {
    "duration": 53,
    "start_time": "2023-05-31T03:03:44.214Z"
   },
   {
    "duration": 22,
    "start_time": "2023-05-31T03:03:44.269Z"
   },
   {
    "duration": 12,
    "start_time": "2023-05-31T03:03:44.293Z"
   },
   {
    "duration": 385,
    "start_time": "2023-05-31T03:03:44.307Z"
   },
   {
    "duration": 58,
    "start_time": "2023-05-31T03:03:44.694Z"
   },
   {
    "duration": 29,
    "start_time": "2023-05-31T03:03:44.754Z"
   },
   {
    "duration": 83,
    "start_time": "2023-05-31T03:03:44.785Z"
   },
   {
    "duration": 13,
    "start_time": "2023-05-31T03:03:44.870Z"
   },
   {
    "duration": 416,
    "start_time": "2023-05-31T03:03:44.885Z"
   },
   {
    "duration": 6,
    "start_time": "2023-05-31T03:03:45.304Z"
   },
   {
    "duration": 142,
    "start_time": "2023-05-31T03:03:45.311Z"
   },
   {
    "duration": 92,
    "start_time": "2023-05-31T03:03:45.455Z"
   },
   {
    "duration": 86,
    "start_time": "2023-05-31T03:03:45.548Z"
   },
   {
    "duration": 6,
    "start_time": "2023-05-31T03:03:45.642Z"
   },
   {
    "duration": 20,
    "start_time": "2023-05-31T03:03:45.650Z"
   },
   {
    "duration": 12,
    "start_time": "2023-05-31T03:03:45.672Z"
   },
   {
    "duration": 14,
    "start_time": "2023-05-31T03:03:45.687Z"
   },
   {
    "duration": 13,
    "start_time": "2023-05-31T03:03:45.703Z"
   },
   {
    "duration": 31,
    "start_time": "2023-05-31T03:03:45.718Z"
   },
   {
    "duration": 20,
    "start_time": "2023-05-31T03:03:45.751Z"
   },
   {
    "duration": 16,
    "start_time": "2023-05-31T03:03:45.773Z"
   },
   {
    "duration": 16,
    "start_time": "2023-05-31T03:03:45.791Z"
   },
   {
    "duration": 34,
    "start_time": "2023-05-31T03:03:45.809Z"
   },
   {
    "duration": 19,
    "start_time": "2023-05-31T03:03:45.845Z"
   },
   {
    "duration": 15,
    "start_time": "2023-05-31T03:03:45.866Z"
   },
   {
    "duration": 15,
    "start_time": "2023-05-31T03:03:45.882Z"
   },
   {
    "duration": 24,
    "start_time": "2023-05-31T03:03:45.898Z"
   },
   {
    "duration": 21,
    "start_time": "2023-05-31T03:03:45.924Z"
   },
   {
    "duration": 20,
    "start_time": "2023-05-31T03:03:45.946Z"
   },
   {
    "duration": 14,
    "start_time": "2023-05-31T03:03:45.968Z"
   },
   {
    "duration": 24,
    "start_time": "2023-05-31T03:03:45.983Z"
   },
   {
    "duration": 14,
    "start_time": "2023-05-31T03:03:46.009Z"
   },
   {
    "duration": 1263,
    "start_time": "2023-05-31T03:04:43.455Z"
   },
   {
    "duration": 154,
    "start_time": "2023-05-31T03:04:44.720Z"
   },
   {
    "duration": 11,
    "start_time": "2023-05-31T03:04:44.875Z"
   },
   {
    "duration": 19,
    "start_time": "2023-05-31T03:04:44.888Z"
   },
   {
    "duration": 3,
    "start_time": "2023-05-31T03:04:44.909Z"
   },
   {
    "duration": 32,
    "start_time": "2023-05-31T03:04:44.914Z"
   },
   {
    "duration": 21,
    "start_time": "2023-05-31T03:04:44.948Z"
   },
   {
    "duration": 86,
    "start_time": "2023-05-31T03:04:44.971Z"
   },
   {
    "duration": 93,
    "start_time": "2023-05-31T03:04:45.059Z"
   },
   {
    "duration": 138,
    "start_time": "2023-05-31T03:04:45.156Z"
   },
   {
    "duration": 28,
    "start_time": "2023-05-31T03:04:45.296Z"
   },
   {
    "duration": 36,
    "start_time": "2023-05-31T03:04:45.341Z"
   },
   {
    "duration": 23,
    "start_time": "2023-05-31T03:04:45.379Z"
   },
   {
    "duration": 11,
    "start_time": "2023-05-31T03:04:45.403Z"
   },
   {
    "duration": 397,
    "start_time": "2023-05-31T03:04:45.416Z"
   },
   {
    "duration": 55,
    "start_time": "2023-05-31T03:04:45.815Z"
   },
   {
    "duration": 26,
    "start_time": "2023-05-31T03:04:45.872Z"
   },
   {
    "duration": 76,
    "start_time": "2023-05-31T03:04:45.900Z"
   },
   {
    "duration": 12,
    "start_time": "2023-05-31T03:04:45.978Z"
   },
   {
    "duration": 420,
    "start_time": "2023-05-31T03:04:45.992Z"
   },
   {
    "duration": 4,
    "start_time": "2023-05-31T03:04:46.416Z"
   },
   {
    "duration": 124,
    "start_time": "2023-05-31T03:04:46.421Z"
   },
   {
    "duration": 59,
    "start_time": "2023-05-31T03:04:46.547Z"
   },
   {
    "duration": 102,
    "start_time": "2023-05-31T03:04:46.608Z"
   },
   {
    "duration": 6,
    "start_time": "2023-05-31T03:04:46.712Z"
   },
   {
    "duration": 24,
    "start_time": "2023-05-31T03:04:46.720Z"
   },
   {
    "duration": 11,
    "start_time": "2023-05-31T03:04:46.746Z"
   },
   {
    "duration": 16,
    "start_time": "2023-05-31T03:04:46.760Z"
   },
   {
    "duration": 18,
    "start_time": "2023-05-31T03:04:46.777Z"
   },
   {
    "duration": 12,
    "start_time": "2023-05-31T03:04:46.797Z"
   },
   {
    "duration": 33,
    "start_time": "2023-05-31T03:04:46.811Z"
   },
   {
    "duration": 17,
    "start_time": "2023-05-31T03:04:46.846Z"
   },
   {
    "duration": 14,
    "start_time": "2023-05-31T03:04:46.865Z"
   },
   {
    "duration": 21,
    "start_time": "2023-05-31T03:04:46.881Z"
   },
   {
    "duration": 15,
    "start_time": "2023-05-31T03:04:46.904Z"
   },
   {
    "duration": 31,
    "start_time": "2023-05-31T03:04:46.922Z"
   },
   {
    "duration": 18,
    "start_time": "2023-05-31T03:04:46.956Z"
   },
   {
    "duration": 31,
    "start_time": "2023-05-31T03:04:46.976Z"
   },
   {
    "duration": 19,
    "start_time": "2023-05-31T03:04:47.009Z"
   },
   {
    "duration": 29,
    "start_time": "2023-05-31T03:04:47.030Z"
   },
   {
    "duration": 17,
    "start_time": "2023-05-31T03:04:47.061Z"
   },
   {
    "duration": 20,
    "start_time": "2023-05-31T03:04:47.081Z"
   },
   {
    "duration": 22,
    "start_time": "2023-05-31T03:04:47.103Z"
   },
   {
    "duration": 1229,
    "start_time": "2023-05-31T03:07:14.310Z"
   },
   {
    "duration": 155,
    "start_time": "2023-05-31T03:07:15.541Z"
   },
   {
    "duration": 11,
    "start_time": "2023-05-31T03:07:15.698Z"
   },
   {
    "duration": 24,
    "start_time": "2023-05-31T03:07:15.711Z"
   },
   {
    "duration": 3,
    "start_time": "2023-05-31T03:07:15.741Z"
   },
   {
    "duration": 13,
    "start_time": "2023-05-31T03:07:15.745Z"
   },
   {
    "duration": 23,
    "start_time": "2023-05-31T03:07:15.760Z"
   },
   {
    "duration": 84,
    "start_time": "2023-05-31T03:07:15.785Z"
   },
   {
    "duration": 91,
    "start_time": "2023-05-31T03:07:15.870Z"
   },
   {
    "duration": 136,
    "start_time": "2023-05-31T03:07:15.963Z"
   },
   {
    "duration": 28,
    "start_time": "2023-05-31T03:07:16.101Z"
   },
   {
    "duration": 43,
    "start_time": "2023-05-31T03:07:16.131Z"
   },
   {
    "duration": 21,
    "start_time": "2023-05-31T03:07:16.176Z"
   },
   {
    "duration": 10,
    "start_time": "2023-05-31T03:07:16.199Z"
   },
   {
    "duration": 363,
    "start_time": "2023-05-31T03:07:16.211Z"
   },
   {
    "duration": 47,
    "start_time": "2023-05-31T03:07:16.576Z"
   },
   {
    "duration": 41,
    "start_time": "2023-05-31T03:07:16.625Z"
   },
   {
    "duration": 58,
    "start_time": "2023-05-31T03:07:16.668Z"
   },
   {
    "duration": 13,
    "start_time": "2023-05-31T03:07:16.742Z"
   },
   {
    "duration": 407,
    "start_time": "2023-05-31T03:07:16.757Z"
   },
   {
    "duration": 4,
    "start_time": "2023-05-31T03:07:17.165Z"
   },
   {
    "duration": 105,
    "start_time": "2023-05-31T03:07:17.171Z"
   },
   {
    "duration": 97,
    "start_time": "2023-05-31T03:07:17.278Z"
   },
   {
    "duration": 88,
    "start_time": "2023-05-31T03:07:17.377Z"
   },
   {
    "duration": 6,
    "start_time": "2023-05-31T03:07:17.466Z"
   },
   {
    "duration": 22,
    "start_time": "2023-05-31T03:07:17.474Z"
   },
   {
    "duration": 21,
    "start_time": "2023-05-31T03:07:17.498Z"
   },
   {
    "duration": 22,
    "start_time": "2023-05-31T03:07:17.522Z"
   },
   {
    "duration": 11,
    "start_time": "2023-05-31T03:07:17.546Z"
   },
   {
    "duration": 15,
    "start_time": "2023-05-31T03:07:17.559Z"
   },
   {
    "duration": 14,
    "start_time": "2023-05-31T03:07:17.576Z"
   },
   {
    "duration": 19,
    "start_time": "2023-05-31T03:07:17.591Z"
   },
   {
    "duration": 34,
    "start_time": "2023-05-31T03:07:17.612Z"
   },
   {
    "duration": 27,
    "start_time": "2023-05-31T03:07:17.647Z"
   },
   {
    "duration": 16,
    "start_time": "2023-05-31T03:07:17.675Z"
   },
   {
    "duration": 13,
    "start_time": "2023-05-31T03:07:17.693Z"
   },
   {
    "duration": 21,
    "start_time": "2023-05-31T03:07:17.708Z"
   },
   {
    "duration": 40,
    "start_time": "2023-05-31T03:07:17.731Z"
   },
   {
    "duration": 11,
    "start_time": "2023-05-31T03:07:17.773Z"
   },
   {
    "duration": 23,
    "start_time": "2023-05-31T03:07:17.786Z"
   },
   {
    "duration": 22,
    "start_time": "2023-05-31T03:07:17.811Z"
   },
   {
    "duration": 23,
    "start_time": "2023-05-31T03:07:17.834Z"
   },
   {
    "duration": 21,
    "start_time": "2023-05-31T03:07:17.860Z"
   },
   {
    "duration": 96,
    "start_time": "2023-05-31T03:08:55.776Z"
   },
   {
    "duration": 1190,
    "start_time": "2023-05-31T03:09:21.247Z"
   },
   {
    "duration": 153,
    "start_time": "2023-05-31T03:09:22.439Z"
   },
   {
    "duration": 12,
    "start_time": "2023-05-31T03:09:22.593Z"
   },
   {
    "duration": 41,
    "start_time": "2023-05-31T03:09:22.607Z"
   },
   {
    "duration": 74,
    "start_time": "2023-05-31T03:09:22.651Z"
   },
   {
    "duration": 59,
    "start_time": "2023-05-31T03:09:22.727Z"
   },
   {
    "duration": 23,
    "start_time": "2023-05-31T03:09:22.788Z"
   },
   {
    "duration": 83,
    "start_time": "2023-05-31T03:09:22.814Z"
   },
   {
    "duration": 95,
    "start_time": "2023-05-31T03:09:22.899Z"
   },
   {
    "duration": 142,
    "start_time": "2023-05-31T03:09:22.995Z"
   },
   {
    "duration": 27,
    "start_time": "2023-05-31T03:09:23.141Z"
   },
   {
    "duration": 39,
    "start_time": "2023-05-31T03:09:23.170Z"
   },
   {
    "duration": 48,
    "start_time": "2023-05-31T03:09:23.211Z"
   },
   {
    "duration": 12,
    "start_time": "2023-05-31T03:09:23.263Z"
   },
   {
    "duration": 385,
    "start_time": "2023-05-31T03:09:23.277Z"
   },
   {
    "duration": 49,
    "start_time": "2023-05-31T03:09:23.664Z"
   },
   {
    "duration": 47,
    "start_time": "2023-05-31T03:09:23.715Z"
   },
   {
    "duration": 61,
    "start_time": "2023-05-31T03:09:23.763Z"
   },
   {
    "duration": 28,
    "start_time": "2023-05-31T03:09:23.825Z"
   },
   {
    "duration": 435,
    "start_time": "2023-05-31T03:09:23.855Z"
   },
   {
    "duration": 4,
    "start_time": "2023-05-31T03:09:24.293Z"
   },
   {
    "duration": 86,
    "start_time": "2023-05-31T03:09:24.298Z"
   },
   {
    "duration": 112,
    "start_time": "2023-05-31T03:09:24.385Z"
   },
   {
    "duration": 94,
    "start_time": "2023-05-31T03:09:24.499Z"
   },
   {
    "duration": 6,
    "start_time": "2023-05-31T03:09:24.595Z"
   },
   {
    "duration": 20,
    "start_time": "2023-05-31T03:09:24.603Z"
   },
   {
    "duration": 19,
    "start_time": "2023-05-31T03:09:24.625Z"
   },
   {
    "duration": 14,
    "start_time": "2023-05-31T03:09:24.646Z"
   },
   {
    "duration": 14,
    "start_time": "2023-05-31T03:09:24.662Z"
   },
   {
    "duration": 14,
    "start_time": "2023-05-31T03:09:24.678Z"
   },
   {
    "duration": 26,
    "start_time": "2023-05-31T03:09:24.694Z"
   },
   {
    "duration": 27,
    "start_time": "2023-05-31T03:09:24.721Z"
   },
   {
    "duration": 17,
    "start_time": "2023-05-31T03:09:24.750Z"
   },
   {
    "duration": 13,
    "start_time": "2023-05-31T03:09:24.769Z"
   },
   {
    "duration": 13,
    "start_time": "2023-05-31T03:09:24.783Z"
   },
   {
    "duration": 14,
    "start_time": "2023-05-31T03:09:24.797Z"
   },
   {
    "duration": 32,
    "start_time": "2023-05-31T03:09:24.813Z"
   },
   {
    "duration": 25,
    "start_time": "2023-05-31T03:09:24.847Z"
   },
   {
    "duration": 7,
    "start_time": "2023-05-31T03:09:24.873Z"
   },
   {
    "duration": 21,
    "start_time": "2023-05-31T03:09:24.881Z"
   },
   {
    "duration": 14,
    "start_time": "2023-05-31T03:09:24.905Z"
   },
   {
    "duration": 28,
    "start_time": "2023-05-31T03:09:24.921Z"
   },
   {
    "duration": 12,
    "start_time": "2023-05-31T03:09:24.951Z"
   },
   {
    "duration": 1548,
    "start_time": "2023-05-31T23:19:04.029Z"
   },
   {
    "duration": 758,
    "start_time": "2023-05-31T23:19:05.580Z"
   },
   {
    "duration": 22,
    "start_time": "2023-05-31T23:19:06.340Z"
   },
   {
    "duration": 33,
    "start_time": "2023-05-31T23:19:06.365Z"
   },
   {
    "duration": 4,
    "start_time": "2023-05-31T23:19:06.401Z"
   },
   {
    "duration": 10,
    "start_time": "2023-05-31T23:19:06.407Z"
   },
   {
    "duration": 43,
    "start_time": "2023-05-31T23:19:06.420Z"
   },
   {
    "duration": 97,
    "start_time": "2023-05-31T23:19:06.465Z"
   },
   {
    "duration": 91,
    "start_time": "2023-05-31T23:19:06.564Z"
   },
   {
    "duration": 162,
    "start_time": "2023-05-31T23:19:06.657Z"
   },
   {
    "duration": 42,
    "start_time": "2023-05-31T23:19:06.821Z"
   },
   {
    "duration": 38,
    "start_time": "2023-05-31T23:19:06.865Z"
   },
   {
    "duration": 60,
    "start_time": "2023-05-31T23:19:06.905Z"
   },
   {
    "duration": 13,
    "start_time": "2023-05-31T23:19:06.969Z"
   },
   {
    "duration": 403,
    "start_time": "2023-05-31T23:19:06.985Z"
   },
   {
    "duration": 70,
    "start_time": "2023-05-31T23:19:07.390Z"
   },
   {
    "duration": 38,
    "start_time": "2023-05-31T23:19:07.462Z"
   },
   {
    "duration": 87,
    "start_time": "2023-05-31T23:19:07.502Z"
   },
   {
    "duration": 19,
    "start_time": "2023-05-31T23:19:07.591Z"
   },
   {
    "duration": 655,
    "start_time": "2023-05-31T23:19:07.612Z"
   },
   {
    "duration": 7,
    "start_time": "2023-05-31T23:19:08.270Z"
   },
   {
    "duration": 122,
    "start_time": "2023-05-31T23:19:08.279Z"
   },
   {
    "duration": 76,
    "start_time": "2023-05-31T23:19:08.441Z"
   },
   {
    "duration": 108,
    "start_time": "2023-05-31T23:19:08.518Z"
   },
   {
    "duration": 17,
    "start_time": "2023-05-31T23:19:08.628Z"
   },
   {
    "duration": 23,
    "start_time": "2023-05-31T23:19:08.649Z"
   },
   {
    "duration": 17,
    "start_time": "2023-05-31T23:19:08.674Z"
   },
   {
    "duration": 16,
    "start_time": "2023-05-31T23:19:08.693Z"
   },
   {
    "duration": 18,
    "start_time": "2023-05-31T23:19:08.712Z"
   },
   {
    "duration": 32,
    "start_time": "2023-05-31T23:19:08.732Z"
   },
   {
    "duration": 12,
    "start_time": "2023-05-31T23:19:08.766Z"
   },
   {
    "duration": 19,
    "start_time": "2023-05-31T23:19:08.780Z"
   },
   {
    "duration": 13,
    "start_time": "2023-05-31T23:19:08.801Z"
   },
   {
    "duration": 46,
    "start_time": "2023-05-31T23:19:08.816Z"
   },
   {
    "duration": 12,
    "start_time": "2023-05-31T23:19:08.865Z"
   },
   {
    "duration": 15,
    "start_time": "2023-05-31T23:19:08.879Z"
   },
   {
    "duration": 13,
    "start_time": "2023-05-31T23:19:08.896Z"
   },
   {
    "duration": 54,
    "start_time": "2023-05-31T23:19:08.911Z"
   },
   {
    "duration": 5,
    "start_time": "2023-05-31T23:19:08.967Z"
   },
   {
    "duration": 15,
    "start_time": "2023-05-31T23:19:08.974Z"
   },
   {
    "duration": 16,
    "start_time": "2023-05-31T23:19:08.992Z"
   },
   {
    "duration": 51,
    "start_time": "2023-05-31T23:19:09.010Z"
   },
   {
    "duration": 18,
    "start_time": "2023-05-31T23:19:09.064Z"
   }
  ],
  "kernelspec": {
   "display_name": "Python 3 (ipykernel)",
   "language": "python",
   "name": "python3"
  },
  "language_info": {
   "codemirror_mode": {
    "name": "ipython",
    "version": 3
   },
   "file_extension": ".py",
   "mimetype": "text/x-python",
   "name": "python",
   "nbconvert_exporter": "python",
   "pygments_lexer": "ipython3",
   "version": "3.9.16"
  },
  "toc": {
   "base_numbering": 1,
   "nav_menu": {},
   "number_sections": true,
   "sideBar": true,
   "skip_h1_title": true,
   "title_cell": "Table of Contents",
   "title_sidebar": "Contents",
   "toc_cell": false,
   "toc_position": {
    "height": "calc(100% - 180px)",
    "left": "10px",
    "top": "150px",
    "width": "293px"
   },
   "toc_section_display": true,
   "toc_window_display": false
  }
 },
 "nbformat": 4,
 "nbformat_minor": 2
}
